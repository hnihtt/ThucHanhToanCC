{
  "nbformat": 4,
  "nbformat_minor": 0,
  "metadata": {
    "colab": {
      "name": "bai3.ipynb",
      "provenance": [],
      "authorship_tag": "ABX9TyOF7W5PN3bxYw90NhNmODCq",
      "include_colab_link": true
    },
    "kernelspec": {
      "name": "python3",
      "display_name": "Python 3"
    },
    "language_info": {
      "name": "python"
    }
  },
  "cells": [
    {
      "cell_type": "markdown",
      "metadata": {
        "id": "view-in-github",
        "colab_type": "text"
      },
      "source": [
        "<a href=\"https://colab.research.google.com/github/hnihtt/ThucHanhToanCC/blob/main/bai3.ipynb\" target=\"_parent\"><img src=\"https://colab.research.google.com/assets/colab-badge.svg\" alt=\"Open In Colab\"/></a>"
      ]
    },
    {
      "cell_type": "markdown",
      "source": [
        "#Thực hành 1 "
      ],
      "metadata": {
        "id": "Ytlq28nbSQ_r"
      }
    },
    {
      "cell_type": "code",
      "source": [
        "def luythua(x,n):\n",
        "  ketqua = 1\n",
        "  for i in range(n):\n",
        "    ketqua *= x\n",
        "  return ketqua"
      ],
      "metadata": {
        "id": "Sr85RWoFSSfG"
      },
      "execution_count": null,
      "outputs": []
    },
    {
      "cell_type": "code",
      "source": [
        "luythua(2,1)"
      ],
      "metadata": {
        "colab": {
          "base_uri": "https://localhost:8080/"
        },
        "id": "3a0IMmaVSo7r",
        "outputId": "9e8aaa76-b40b-438f-841d-e8fd933bd965"
      },
      "execution_count": null,
      "outputs": [
        {
          "output_type": "execute_result",
          "data": {
            "text/plain": [
              "2"
            ]
          },
          "metadata": {},
          "execution_count": 4
        }
      ]
    },
    {
      "cell_type": "code",
      "source": [
        "luythua(2,0)"
      ],
      "metadata": {
        "colab": {
          "base_uri": "https://localhost:8080/"
        },
        "id": "hALKg_oyS4AE",
        "outputId": "7bc18541-e7de-4cb0-d54a-64de86ac4a25"
      },
      "execution_count": null,
      "outputs": [
        {
          "output_type": "execute_result",
          "data": {
            "text/plain": [
              "1"
            ]
          },
          "metadata": {},
          "execution_count": 5
        }
      ]
    },
    {
      "cell_type": "code",
      "source": [
        "luythua(2,5)"
      ],
      "metadata": {
        "colab": {
          "base_uri": "https://localhost:8080/"
        },
        "id": "AvEyqSSjS_mF",
        "outputId": "8512eafd-2650-4f0f-b47d-8d09c73beb95"
      },
      "execution_count": null,
      "outputs": [
        {
          "output_type": "execute_result",
          "data": {
            "text/plain": [
              "32"
            ]
          },
          "metadata": {},
          "execution_count": 6
        }
      ]
    },
    {
      "cell_type": "markdown",
      "source": [
        "#Thực hành 2 "
      ],
      "metadata": {
        "id": "6UxrLkQ7TB0b"
      }
    },
    {
      "cell_type": "code",
      "source": [
        "#Lỗi cú pháp(syntax errors)\n",
        "while 1 = 2:"
      ],
      "metadata": {
        "colab": {
          "base_uri": "https://localhost:8080/",
          "height": 130
        },
        "id": "u5Al1rGnTEEK",
        "outputId": "8fab9850-4a4b-4694-fc28-cfbe13e0f018"
      },
      "execution_count": null,
      "outputs": [
        {
          "output_type": "error",
          "ename": "SyntaxError",
          "evalue": "ignored",
          "traceback": [
            "\u001b[0;36m  File \u001b[0;32m\"<ipython-input-8-03efd44ee389>\"\u001b[0;36m, line \u001b[0;32m1\u001b[0m\n\u001b[0;31m    while 1 = 2:\u001b[0m\n\u001b[0m            ^\u001b[0m\n\u001b[0;31mSyntaxError\u001b[0m\u001b[0;31m:\u001b[0m invalid syntax\n"
          ]
        }
      ]
    },
    {
      "cell_type": "code",
      "source": [
        "#Ngoại lệ(exceptions)\n",
        "10*(1/0)"
      ],
      "metadata": {
        "colab": {
          "base_uri": "https://localhost:8080/",
          "height": 182
        },
        "id": "5kiyTCZfTWUV",
        "outputId": "779809fe-87e0-4ccc-8b7a-84f47045e782"
      },
      "execution_count": null,
      "outputs": [
        {
          "output_type": "error",
          "ename": "ZeroDivisionError",
          "evalue": "ignored",
          "traceback": [
            "\u001b[0;31m---------------------------------------------------------------------------\u001b[0m",
            "\u001b[0;31mZeroDivisionError\u001b[0m                         Traceback (most recent call last)",
            "\u001b[0;32m<ipython-input-10-179540c15ceb>\u001b[0m in \u001b[0;36m<module>\u001b[0;34m()\u001b[0m\n\u001b[1;32m      1\u001b[0m \u001b[0;31m#Ngoại lệ(exceptions)\u001b[0m\u001b[0;34m\u001b[0m\u001b[0;34m\u001b[0m\u001b[0;34m\u001b[0m\u001b[0m\n\u001b[0;32m----> 2\u001b[0;31m \u001b[0;36m10\u001b[0m\u001b[0;34m*\u001b[0m\u001b[0;34m(\u001b[0m\u001b[0;36m1\u001b[0m\u001b[0;34m/\u001b[0m\u001b[0;36m0\u001b[0m\u001b[0;34m)\u001b[0m\u001b[0;34m\u001b[0m\u001b[0;34m\u001b[0m\u001b[0m\n\u001b[0m",
            "\u001b[0;31mZeroDivisionError\u001b[0m: division by zero"
          ]
        }
      ]
    },
    {
      "cell_type": "code",
      "source": [
        "3*bien_chua_khai_bao/5"
      ],
      "metadata": {
        "colab": {
          "base_uri": "https://localhost:8080/",
          "height": 165
        },
        "id": "jvGybi1BTy2e",
        "outputId": "272a15a5-b05c-4fd8-9a21-c3a659db825b"
      },
      "execution_count": null,
      "outputs": [
        {
          "output_type": "error",
          "ename": "NameError",
          "evalue": "ignored",
          "traceback": [
            "\u001b[0;31m---------------------------------------------------------------------------\u001b[0m",
            "\u001b[0;31mNameError\u001b[0m                                 Traceback (most recent call last)",
            "\u001b[0;32m<ipython-input-12-66d9e81f6071>\u001b[0m in \u001b[0;36m<module>\u001b[0;34m()\u001b[0m\n\u001b[0;32m----> 1\u001b[0;31m \u001b[0;36m3\u001b[0m\u001b[0;34m*\u001b[0m\u001b[0mbien_chua_khai_bao\u001b[0m\u001b[0;34m/\u001b[0m\u001b[0;36m5\u001b[0m\u001b[0;34m\u001b[0m\u001b[0;34m\u001b[0m\u001b[0m\n\u001b[0m",
            "\u001b[0;31mNameError\u001b[0m: name 'bien_chua_khai_bao' is not defined"
          ]
        }
      ]
    },
    {
      "cell_type": "code",
      "source": [
        "'string' + 7 "
      ],
      "metadata": {
        "colab": {
          "base_uri": "https://localhost:8080/",
          "height": 165
        },
        "id": "yn1NMVscT8Al",
        "outputId": "88a202a8-98fd-41d0-9dbb-f4ed7f888058"
      },
      "execution_count": null,
      "outputs": [
        {
          "output_type": "error",
          "ename": "TypeError",
          "evalue": "ignored",
          "traceback": [
            "\u001b[0;31m---------------------------------------------------------------------------\u001b[0m",
            "\u001b[0;31mTypeError\u001b[0m                                 Traceback (most recent call last)",
            "\u001b[0;32m<ipython-input-13-eb5ae0b8c2c8>\u001b[0m in \u001b[0;36m<module>\u001b[0;34m()\u001b[0m\n\u001b[0;32m----> 1\u001b[0;31m \u001b[0;34m'string'\u001b[0m\u001b[0;34m+\u001b[0m\u001b[0;36m7\u001b[0m\u001b[0;34m\u001b[0m\u001b[0;34m\u001b[0m\u001b[0m\n\u001b[0m",
            "\u001b[0;31mTypeError\u001b[0m: can only concatenate str (not \"int\") to str"
          ]
        }
      ]
    },
    {
      "cell_type": "code",
      "source": [
        "#Ví dụ về ưu tiên phép toán\n",
        "'string' + 10/0 "
      ],
      "metadata": {
        "colab": {
          "base_uri": "https://localhost:8080/",
          "height": 182
        },
        "id": "gCnx91J9UCmF",
        "outputId": "539c9527-543c-4e74-d858-b871a5e10bf1"
      },
      "execution_count": null,
      "outputs": [
        {
          "output_type": "error",
          "ename": "ZeroDivisionError",
          "evalue": "ignored",
          "traceback": [
            "\u001b[0;31m---------------------------------------------------------------------------\u001b[0m",
            "\u001b[0;31mZeroDivisionError\u001b[0m                         Traceback (most recent call last)",
            "\u001b[0;32m<ipython-input-14-506be0bbea76>\u001b[0m in \u001b[0;36m<module>\u001b[0;34m()\u001b[0m\n\u001b[1;32m      1\u001b[0m \u001b[0;31m#Ví dụ về ưu tiên phép toán\u001b[0m\u001b[0;34m\u001b[0m\u001b[0;34m\u001b[0m\u001b[0;34m\u001b[0m\u001b[0m\n\u001b[0;32m----> 2\u001b[0;31m \u001b[0;34m'string'\u001b[0m \u001b[0;34m+\u001b[0m \u001b[0;36m10\u001b[0m\u001b[0;34m/\u001b[0m\u001b[0;36m0\u001b[0m\u001b[0;34m\u001b[0m\u001b[0;34m\u001b[0m\u001b[0m\n\u001b[0m",
            "\u001b[0;31mZeroDivisionError\u001b[0m: division by zero"
          ]
        }
      ]
    },
    {
      "cell_type": "code",
      "source": [
        "'string' + 7 + 1/0"
      ],
      "metadata": {
        "colab": {
          "base_uri": "https://localhost:8080/",
          "height": 165
        },
        "id": "9jS_d9gBUUBK",
        "outputId": "b6927d95-bdc0-491b-fca7-44260a102011"
      },
      "execution_count": null,
      "outputs": [
        {
          "output_type": "error",
          "ename": "TypeError",
          "evalue": "ignored",
          "traceback": [
            "\u001b[0;31m---------------------------------------------------------------------------\u001b[0m",
            "\u001b[0;31mTypeError\u001b[0m                                 Traceback (most recent call last)",
            "\u001b[0;32m<ipython-input-16-9c76cd1726e8>\u001b[0m in \u001b[0;36m<module>\u001b[0;34m()\u001b[0m\n\u001b[0;32m----> 1\u001b[0;31m \u001b[0;34m'string'\u001b[0m \u001b[0;34m+\u001b[0m \u001b[0;36m7\u001b[0m \u001b[0;34m+\u001b[0m \u001b[0;36m1\u001b[0m\u001b[0;34m/\u001b[0m\u001b[0;36m0\u001b[0m\u001b[0;34m\u001b[0m\u001b[0;34m\u001b[0m\u001b[0m\n\u001b[0m",
            "\u001b[0;31mTypeError\u001b[0m: can only concatenate str (not \"int\") to str"
          ]
        }
      ]
    },
    {
      "cell_type": "markdown",
      "source": [
        "#Thực hành 3 "
      ],
      "metadata": {
        "id": "iUNmWT0ZUijs"
      }
    },
    {
      "cell_type": "code",
      "source": [
        "x = int(input('vui long nhap so: '))"
      ],
      "metadata": {
        "colab": {
          "base_uri": "https://localhost:8080/",
          "height": 182
        },
        "id": "XytQsP-lUkFV",
        "outputId": "7ff57955-479e-4217-d06d-3554b8fb28fb"
      },
      "execution_count": null,
      "outputs": [
        {
          "name": "stdout",
          "output_type": "stream",
          "text": [
            "vui long nhap so: a\n"
          ]
        },
        {
          "output_type": "error",
          "ename": "ValueError",
          "evalue": "ignored",
          "traceback": [
            "\u001b[0;31m---------------------------------------------------------------------------\u001b[0m",
            "\u001b[0;31mValueError\u001b[0m                                Traceback (most recent call last)",
            "\u001b[0;32m<ipython-input-18-07ad1ec9cf3e>\u001b[0m in \u001b[0;36m<module>\u001b[0;34m()\u001b[0m\n\u001b[0;32m----> 1\u001b[0;31m \u001b[0mx\u001b[0m \u001b[0;34m=\u001b[0m \u001b[0mint\u001b[0m\u001b[0;34m(\u001b[0m\u001b[0minput\u001b[0m\u001b[0;34m(\u001b[0m\u001b[0;34m'vui long nhap so: '\u001b[0m\u001b[0;34m)\u001b[0m\u001b[0;34m)\u001b[0m\u001b[0;34m\u001b[0m\u001b[0;34m\u001b[0m\u001b[0m\n\u001b[0m",
            "\u001b[0;31mValueError\u001b[0m: invalid literal for int() with base 10: 'a'"
          ]
        }
      ]
    },
    {
      "cell_type": "code",
      "source": [
        "while True:\n",
        "  try:\n",
        "    x = int(input('nhap so: '))\n",
        "    break\n",
        "  except:\n",
        "    print('vui long nhap so')\n",
        "print('ban da nhap so ' + str(x))"
      ],
      "metadata": {
        "colab": {
          "base_uri": "https://localhost:8080/"
        },
        "id": "M8WL4juAU2bC",
        "outputId": "2a8fa5f8-5e2f-4f3c-8ada-5fe39b0de86b"
      },
      "execution_count": null,
      "outputs": [
        {
          "output_type": "stream",
          "name": "stdout",
          "text": [
            "nhap so: a\n",
            "vui long nhap so\n",
            "nhap so: 5\n",
            "ban da nhap so 5\n"
          ]
        }
      ]
    },
    {
      "cell_type": "markdown",
      "source": [
        "#Thực hành 4 "
      ],
      "metadata": {
        "id": "IPxape8Rhm2V"
      }
    },
    {
      "cell_type": "code",
      "source": [
        "while True:\n",
        "  try:\n",
        "    x = int(input('nhap so: '))\n",
        "  except:\n",
        "    print('so vua nhap sai')\n",
        "  else:\n",
        "    print('so vua nhap la ' + str(x))\n",
        "    break\n",
        "  finally:\n",
        "    print('da hoan thanh chuong trinh')"
      ],
      "metadata": {
        "colab": {
          "base_uri": "https://localhost:8080/"
        },
        "id": "-ZuY9IU6VkTP",
        "outputId": "8ee59140-6c18-4404-dd31-5634a66ae6aa"
      },
      "execution_count": null,
      "outputs": [
        {
          "output_type": "stream",
          "name": "stdout",
          "text": [
            "nhap so: a\n",
            "so vua nhap sai\n",
            "da hoan thanh chuong trinh\n",
            "nhap so: 5\n",
            "so vua nhap la 5\n",
            "da hoan thanh chuong trinh\n"
          ]
        }
      ]
    },
    {
      "cell_type": "markdown",
      "source": [
        "#Thực hành 5 "
      ],
      "metadata": {
        "id": "ozHVfrLmhqHZ"
      }
    },
    {
      "cell_type": "code",
      "source": [
        "def frange(batdau, ketthuc, buocnhay):\n",
        "  day_ketqua = [] \n",
        "  while batdau < ketthuc: \n",
        "    day_ketqua.append(batdau) \n",
        "    batdau = batdau + buocnhay \n",
        "  return day_ketqua"
      ],
      "metadata": {
        "id": "G5Axdst1hroE"
      },
      "execution_count": null,
      "outputs": []
    },
    {
      "cell_type": "code",
      "source": [
        "frange(0,2,0.2)"
      ],
      "metadata": {
        "id": "rrvemE-kiKa0",
        "outputId": "6af0377e-8b83-4fb6-e33d-6fe193b90f84",
        "colab": {
          "base_uri": "https://localhost:8080/"
        }
      },
      "execution_count": null,
      "outputs": [
        {
          "output_type": "execute_result",
          "data": {
            "text/plain": [
              "[0,\n",
              " 0.2,\n",
              " 0.4,\n",
              " 0.6000000000000001,\n",
              " 0.8,\n",
              " 1.0,\n",
              " 1.2,\n",
              " 1.4,\n",
              " 1.5999999999999999,\n",
              " 1.7999999999999998,\n",
              " 1.9999999999999998]"
            ]
          },
          "metadata": {},
          "execution_count": 4
        }
      ]
    },
    {
      "cell_type": "markdown",
      "source": [
        "#Thực hành 6 "
      ],
      "metadata": {
        "id": "lfk2-Gj0iWCM"
      }
    },
    {
      "cell_type": "code",
      "source": [
        "#Phân đoạn 1: Nhập các thư viện xử lý: \n",
        "from matplotlib import pyplot as plt \n",
        "import math\n",
        "#Phân đoạn 2: Xây dựng các hàm xử lý: \n",
        "#Hàm 1: Hàm vẽ đồ thị \n",
        "def draw_graph(x, y): \n",
        " plt.plot(x, y) \n",
        " plt.xlabel('Truc X') \n",
        " plt.ylabel('Truc Y') \n",
        " plt.title('Do thi bai toan nem qua bong')\n",
        "#Hàm 2: Hàm xử lý về tạo các khoảng số thực đều nhau \n",
        "def frange(start, final, interval): \n",
        " numbers = [] \n",
        " while start < final: \n",
        "  numbers.append(start) \n",
        "  start = start + interval \n",
        " return numbers\n",
        "#Hàm 3: Hàm tính toán các dãy X và Y để vẽ đồ thị tương ứng với hàm đạn đạo\n",
        "def draw_trajectory(u, theta):\n",
        "  g = 9.8\n",
        "  theta = math.radians(theta)\n",
        "  t_flight = 2*u*math.sin(theta)/g\n",
        "  intervals = frange(0, t_flight, 0.001)\n",
        "  x = []\n",
        "  y = []\n",
        "  for t in intervals: \n",
        "    x.append(u*math.cos(theta)*t) \n",
        "    y.append(u*math.sin(theta)*t - 0.5*g*t*t) \n",
        "  draw_graph(x, y)\n",
        "#Phân đoạn 3: Xây dựng hàm main:\n",
        "if __name__ == '__main__':\n",
        " try: \n",
        "  u = float(input('Nhap van toc ban dau (m/s): ')) \n",
        "  theta = float(input('Nhap goc bay (degrees): ')) \n",
        " except ValueError: \n",
        "  print (' Nhap cac gia tri sai! ') \n",
        " else: \n",
        "  draw_trajectory(u, theta) \n",
        "  plt.show() \n",
        " finally: \n",
        "  print ('Hoan thanh chuong trinh!') "
      ],
      "metadata": {
        "id": "KOvmBw1yiYPz",
        "outputId": "845b3db0-6fc4-48a1-f14f-ee25b1d41f55",
        "colab": {
          "base_uri": "https://localhost:8080/",
          "height": 347
        }
      },
      "execution_count": 1,
      "outputs": [
        {
          "name": "stdout",
          "output_type": "stream",
          "text": [
            "Nhap van toc ban dau (m/s): 50\n",
            "Nhap goc bay (degrees): 65\n"
          ]
        },
        {
          "output_type": "display_data",
          "data": {
            "image/png": "[encoded data removed]",
            "text/plain": [
              "<Figure size 432x288 with 1 Axes>"
            ]
          },
          "metadata": {
            "needs_background": "light"
          }
        },
        {
          "output_type": "stream",
          "name": "stdout",
          "text": [
            "Hoan thanh chuong trinh!\n"
          ]
        }
      ]
    },
    {
      "cell_type": "markdown",
      "source": [
        "#Thực hành 7 "
      ],
      "metadata": {
        "id": "zj4rdvLq25vy"
      }
    },
    {
      "cell_type": "code",
      "source": [
        "if __name__ == '__main__': \n",
        " # Danh sach cac toc do ban dau khac nhau \n",
        " ds_vantoc = [20, 40, 60] \n",
        " goc_bandau = 45 # 45 do \n",
        " for v in ds_vantoc: \n",
        "  draw_trajectory(v, goc_bandau) \n",
        " # Tao chu dan trong do thi: \n",
        " chudan = [] \n",
        " for i in ds_vantoc: \n",
        "  chudan.append(str(i)) \n",
        " # Xem chu dan duoc tao: \n",
        " print (\"Chu dan duoc tao la: \") \n",
        " print (chudan) \n",
        " # Them chu dan vao do thi \n",
        " plt.legend(chudan) \n",
        " # Hien thi do thi: \n",
        " plt.show()"
      ],
      "metadata": {
        "id": "Cn7CKgh621Tn",
        "outputId": "b8d3e623-6401-4893-b0e2-ae6ff20b38f0",
        "colab": {
          "base_uri": "https://localhost:8080/",
          "height": 330
        }
      },
      "execution_count": 3,
      "outputs": [
        {
          "output_type": "stream",
          "name": "stdout",
          "text": [
            "Chu dan duoc tao la: \n",
            "['20', '40', '60']\n"
          ]
        },
        {
          "output_type": "display_data",
          "data": {
            "image/png": "[encoded data removed]",
            "text/plain": [
              "<Figure size 432x288 with 1 Axes>"
            ]
          },
          "metadata": {
            "needs_background": "light"
          }
        }
      ]
    },
    {
      "cell_type": "markdown",
      "source": [
        "#Thực hành 8 "
      ],
      "metadata": {
        "id": "x_GlHH0L30Hb"
      }
    },
    {
      "cell_type": "code",
      "source": [
        "from sympy import Symbol, Derivative, sympify, pprint"
      ],
      "metadata": {
        "id": "-k8YXMLk31kK"
      },
      "execution_count": 5,
      "outputs": []
    },
    {
      "cell_type": "code",
      "source": [
        "def tinh_daoham(ham_f, bien): \n",
        " bien = Symbol(bien) \n",
        " d = Derivative(ham_f, bien).doit() \n",
        " pprint(d) "
      ],
      "metadata": {
        "id": "JZRkCbay4Viv"
      },
      "execution_count": 6,
      "outputs": []
    },
    {
      "cell_type": "code",
      "source": [
        "tinh_daoham('x**3+x**2+x', 'x') "
      ],
      "metadata": {
        "id": "wMrpnaJJ4cn-",
        "outputId": "1b6e7b71-237b-4cef-c625-802b148b471d",
        "colab": {
          "base_uri": "https://localhost:8080/"
        }
      },
      "execution_count": 7,
      "outputs": [
        {
          "output_type": "stream",
          "name": "stdout",
          "text": [
            "   2          \n",
            "3⋅x  + 2⋅x + 1\n"
          ]
        }
      ]
    },
    {
      "cell_type": "code",
      "source": [
        "tinh_daoham('x**3 + x**2 + r', 'x')"
      ],
      "metadata": {
        "id": "zdbuA_zH4g6L",
        "outputId": "1f7a106f-dcd0-4203-d949-c63abdf26780",
        "colab": {
          "base_uri": "https://localhost:8080/"
        }
      },
      "execution_count": 10,
      "outputs": [
        {
          "output_type": "stream",
          "name": "stdout",
          "text": [
            "   2      \n",
            "3⋅x  + 2⋅x\n"
          ]
        }
      ]
    },
    {
      "cell_type": "code",
      "source": [
        "from sympy.core.sympify import SympifyError"
      ],
      "metadata": {
        "id": "E1BUv3t24utc"
      },
      "execution_count": 11,
      "outputs": []
    },
    {
      "cell_type": "code",
      "source": [
        "def tinh_daoham(ham_f, bien):\n",
        "  bien = Symbol(bien)\n",
        "  d = Derivative(ham_f, bien).doit()\n",
        "  pprint(d)"
      ],
      "metadata": {
        "id": "289vayK84wl6"
      },
      "execution_count": 12,
      "outputs": []
    },
    {
      "cell_type": "code",
      "source": [
        "if __name__ == '__main__':\n",
        "  ham_input = input(\"Nhap 1 ham so: \")\n",
        "  bien = input(\"Nhap 1 bien so: \")\n",
        "  try:\n",
        "    ham_sympy = sympify(ham_input)\n",
        "  except SympifyError:\n",
        "    print(\"Ham nhap bi loi!\")\n",
        "  else:\n",
        "    tinh_daoham(ham_input, bien)"
      ],
      "metadata": {
        "id": "c229oKEe4y9h",
        "outputId": "b5068824-b12c-4fe8-ea0c-eae91fc04be4",
        "colab": {
          "base_uri": "https://localhost:8080/"
        }
      },
      "execution_count": 13,
      "outputs": [
        {
          "output_type": "stream",
          "name": "stdout",
          "text": [
            "Nhap 1 ham so: sin(2*x)\n",
            "Nhap 1 bien so: x\n",
            "2⋅cos(2⋅x)\n"
          ]
        }
      ]
    },
    {
      "cell_type": "markdown",
      "source": [
        "#Thực hành "
      ],
      "metadata": {
        "id": "VxIErUiR5fOR"
      }
    },
    {
      "cell_type": "code",
      "source": [
        "from sympy import Symbol, sin, pi\n",
        "from pylab import plot, show\n",
        "u = Symbol('u')\n",
        "u = 30.0 # van toc 30m/s\n",
        "g = 9.81 # hs gia toc trong truong \n",
        "theta = Symbol('theta')\n",
        "R = (u**2)*sin(2.0*theta)/g\n",
        "R"
      ],
      "metadata": {
        "id": "s54ktrFO5hOJ",
        "outputId": "40d3b537-6655-4db3-e00f-debebb96860d",
        "colab": {
          "base_uri": "https://localhost:8080/",
          "height": 39
        }
      },
      "execution_count": 19,
      "outputs": [
        {
          "output_type": "execute_result",
          "data": {
            "text/latex": "$\\displaystyle 91.743119266055 \\sin{\\left(2.0 \\theta \\right)}$",
            "text/plain": [
              "91.743119266055*sin(2.0*theta)"
            ]
          },
          "metadata": {},
          "execution_count": 19
        }
      ]
    },
    {
      "cell_type": "markdown",
      "source": [
        "#Thực hành 9 "
      ],
      "metadata": {
        "id": "9Ayv1yyy6APX"
      }
    },
    {
      "cell_type": "code",
      "source": [
        "import math\n",
        "from sympy import Derivative, Symbol, sin\n",
        "def grad_ascent(x0, f1x, x):\n",
        "  epsilon = 1e-6\n",
        "  step_size = 1e-4\n",
        "  x_cu = x0\n",
        "  x_moi = x_cu + step_size * f1x.subs({x : x_cu}).evalf()\n",
        "  while abs(x_cu - x_moi) > epsilon:\n",
        "    x_cu = x_moi\n",
        "    x_moi = x_cu + step_size * f1x.subs({x : x_cu}).evalf()\n",
        "  return x_moi"
      ],
      "metadata": {
        "id": "DBWdzF_W6Cyi"
      },
      "execution_count": 21,
      "outputs": []
    },
    {
      "cell_type": "code",
      "source": [
        "def tim_max_theta(R,theta):\n",
        "  R1theta = Derivative(R,theta).doit()\n",
        "  theta_0 = 1e-3\n",
        "  theta_max = grad_ascent(theta_0,R1theta,theta)\n",
        "  return theta_max"
      ],
      "metadata": {
        "id": "6TmV_zb66Xli"
      },
      "execution_count": 22,
      "outputs": []
    },
    {
      "cell_type": "code",
      "source": [
        "g = 9.8\n",
        "u = 30\n",
        "theta = Symbol(\"theta\")\n",
        "R = (u**2)*sin(2*theta)/g"
      ],
      "metadata": {
        "id": "fZoTQBwG6ZgC"
      },
      "execution_count": 23,
      "outputs": []
    },
    {
      "cell_type": "code",
      "source": [
        "theta_max = tim_max_theta(R,theta)\n",
        "print(\"Goc theta: {0}\".format(math.degrees(theta_max)))"
      ],
      "metadata": {
        "id": "TSjpIheT6bS4",
        "outputId": "9513612c-4074-43b4-8f7b-a29097c254a1",
        "colab": {
          "base_uri": "https://localhost:8080/"
        }
      },
      "execution_count": 26,
      "outputs": [
        {
          "output_type": "stream",
          "name": "stdout",
          "text": [
            "Goc theta: 44.99854431510696\n"
          ]
        }
      ]
    },
    {
      "cell_type": "code",
      "source": [
        "print(\"Khoang cach vat bay xa: {0}\".format(R.subs({theta:theta_max})))"
      ],
      "metadata": {
        "id": "Lzz4D6QO6exr",
        "outputId": "390575ab-f7be-45f6-a80e-ee67cf5c2d94",
        "colab": {
          "base_uri": "https://localhost:8080/"
        }
      },
      "execution_count": 27,
      "outputs": [
        {
          "output_type": "stream",
          "name": "stdout",
          "text": [
            "Khoang cach vat bay xa: 91.8367345753182\n"
          ]
        }
      ]
    }
  ]
}