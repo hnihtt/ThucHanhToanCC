{
  "nbformat": 4,
  "nbformat_minor": 0,
  "metadata": {
    "colab": {
      "name": "bai1.ipynb",
      "provenance": [],
      "authorship_tag": "ABX9TyOxo1roo16U/2mxqRiCI0w+",
      "include_colab_link": true
    },
    "kernelspec": {
      "name": "python3",
      "display_name": "Python 3"
    },
    "language_info": {
      "name": "python"
    }
  },
  "cells": [
    {
      "cell_type": "markdown",
      "metadata": {
        "id": "view-in-github",
        "colab_type": "text"
      },
      "source": [
        "<a href=\"https://colab.research.google.com/github/hnihtt/ThucHanhToanCC/blob/main/bai1.ipynb\" target=\"_parent\"><img src=\"https://colab.research.google.com/assets/colab-badge.svg\" alt=\"Open In Colab\"/></a>"
      ]
    },
    {
      "cell_type": "markdown",
      "source": [
        "#Thực hành 2\n"
      ],
      "metadata": {
        "id": "_saXcn44NOp1"
      }
    },
    {
      "cell_type": "code",
      "execution_count": null,
      "metadata": {
        "id": "p4QHS-m14klD"
      },
      "outputs": [],
      "source": [
        "n = 10000000\n",
        "\n",
        "X = [(2-0)*k/n for k in range(0, n+1)]"
      ]
    },
    {
      "cell_type": "code",
      "source": [
        "S = 0\n",
        "\n",
        "for k in range(1, n + 1):\n",
        "\n",
        "  S = S + X[k]**2 * (X[k] - X[k-1])\n",
        "\n",
        "print (S)"
      ],
      "metadata": {
        "id": "ReH7jrmJNDLK",
        "outputId": "bd23c711-9873-4815-d1e0-7eb946fe557f",
        "colab": {
          "base_uri": "https://localhost:8080/"
        }
      },
      "execution_count": null,
      "outputs": [
        {
          "output_type": "stream",
          "name": "stdout",
          "text": [
            "2.666667066666659\n"
          ]
        }
      ]
    },
    {
      "cell_type": "markdown",
      "source": [
        "#Thực hành 3"
      ],
      "metadata": {
        "id": "uZ9W2qO0gPj9"
      }
    },
    {
      "cell_type": "code",
      "source": [
        "from sympy import *\n",
        "Rational(1,2) + Rational(1,3)"
      ],
      "metadata": {
        "id": "vz5tcB4AgVRE",
        "outputId": "2626cc1c-7d7c-46dc-daee-a1df9d6c8a2e",
        "colab": {
          "base_uri": "https://localhost:8080/",
          "height": 51
        }
      },
      "execution_count": null,
      "outputs": [
        {
          "output_type": "execute_result",
          "data": {
            "text/latex": "$\\displaystyle \\frac{5}{6}$",
            "text/plain": [
              "5/6"
            ]
          },
          "metadata": {},
          "execution_count": 3
        }
      ]
    },
    {
      "cell_type": "code",
      "source": [
        "Rational(1,2) + 1"
      ],
      "metadata": {
        "id": "02PR-NsDg3Ag",
        "outputId": "d8915f35-92aa-4762-ef0c-a436c122a3f3",
        "colab": {
          "base_uri": "https://localhost:8080/",
          "height": 51
        }
      },
      "execution_count": null,
      "outputs": [
        {
          "output_type": "execute_result",
          "data": {
            "text/latex": "$\\displaystyle \\frac{3}{2}$",
            "text/plain": [
              "3/2"
            ]
          },
          "metadata": {},
          "execution_count": 5
        }
      ]
    },
    {
      "cell_type": "code",
      "source": [
        "Rational(1,2) + 1.5"
      ],
      "metadata": {
        "id": "FJjQRBj7g9pd",
        "outputId": "78edc2fd-ea6e-43f3-c12e-20351cbbe90c",
        "colab": {
          "base_uri": "https://localhost:8080/",
          "height": 38
        }
      },
      "execution_count": null,
      "outputs": [
        {
          "output_type": "execute_result",
          "data": {
            "text/latex": "$\\displaystyle 2.0$",
            "text/plain": [
              "2.00000000000000"
            ]
          },
          "metadata": {},
          "execution_count": 6
        }
      ]
    },
    {
      "cell_type": "markdown",
      "source": [
        "#Thực hành 4"
      ],
      "metadata": {
        "id": "6rFSmqTo_OOo"
      }
    },
    {
      "cell_type": "code",
      "source": [
        "from sympy import *"
      ],
      "metadata": {
        "id": "0DhkghYt_UnG"
      },
      "execution_count": null,
      "outputs": []
    },
    {
      "cell_type": "code",
      "source": [
        "x = Symbol('x')\n",
        "y = Symbol('y')"
      ],
      "metadata": {
        "id": "LrwrSKLP_a0v"
      },
      "execution_count": null,
      "outputs": []
    },
    {
      "cell_type": "code",
      "source": [
        "x + y + x - y"
      ],
      "metadata": {
        "id": "R9JrW8Tc_kL_",
        "outputId": "ea006738-2667-4c96-fa1b-5b21bfba7548",
        "colab": {
          "base_uri": "https://localhost:8080/",
          "height": 39
        }
      },
      "execution_count": null,
      "outputs": [
        {
          "output_type": "execute_result",
          "data": {
            "text/latex": "$\\displaystyle 2 x$",
            "text/plain": [
              "2*x"
            ]
          },
          "metadata": {},
          "execution_count": 5
        }
      ]
    },
    {
      "cell_type": "code",
      "source": [
        "(x+y)*2"
      ],
      "metadata": {
        "id": "cg3C0iqo_6lU",
        "outputId": "5324f89b-bccd-43ec-9140-11a18273d46b",
        "colab": {
          "base_uri": "https://localhost:8080/",
          "height": 39
        }
      },
      "execution_count": null,
      "outputs": [
        {
          "output_type": "execute_result",
          "data": {
            "text/latex": "$\\displaystyle 2 x + 2 y$",
            "text/plain": [
              "2*x + 2*y"
            ]
          },
          "metadata": {},
          "execution_count": 6
        }
      ]
    },
    {
      "cell_type": "markdown",
      "source": [
        "#Thực hành 5"
      ],
      "metadata": {
        "id": "NS1OtaOA7w2v"
      }
    },
    {
      "cell_type": "code",
      "source": [
        "#5\n",
        "from sympy.solvers.solvers import denoms\n",
        "from sympy import *"
      ],
      "metadata": {
        "id": "5L_1zimP71tl"
      },
      "execution_count": null,
      "outputs": []
    },
    {
      "cell_type": "code",
      "source": [
        "x = Symbol('x')\n",
        "eq = (1/x)*1/(x-3)\n",
        "dd = denoms(eq)\n",
        "print(dd)\n"
      ],
      "metadata": {
        "id": "Ec-9b8JLFWTT",
        "outputId": "8a3b68f0-5530-441b-8594-4d186cf03724",
        "colab": {
          "base_uri": "https://localhost:8080/"
        }
      },
      "execution_count": null,
      "outputs": [
        {
          "output_type": "stream",
          "name": "stdout",
          "text": [
            "{x, x - 3}\n"
          ]
        }
      ]
    },
    {
      "cell_type": "code",
      "source": [
        "ab = (1+1/x)/(x-1)\n",
        "loai_tru = set()\n",
        "print(type(loai_tru))\n",
        "for d in denoms(ab):\n",
        "  for s in solve(d):\n",
        "    loai_tru.add(s)\n",
        "print(loai_tru)"
      ],
      "metadata": {
        "id": "CFykiZJfN4GI",
        "outputId": "08ffd478-4123-4615-8b04-a15e7e1faf03",
        "colab": {
          "base_uri": "https://localhost:8080/"
        }
      },
      "execution_count": null,
      "outputs": [
        {
          "output_type": "stream",
          "name": "stdout",
          "text": [
            "<class 'set'>\n",
            "{0, 1}\n"
          ]
        }
      ]
    },
    {
      "cell_type": "markdown",
      "source": [
        "#Thực hành 6"
      ],
      "metadata": {
        "id": "daXZVyzzP1t5"
      }
    },
    {
      "cell_type": "code",
      "source": [
        "from sympy import Symbol\n",
        "x = Symbol('x', positive=True)\n",
        "if (x+3) > 0:\n",
        "  print('x+3 duong')\n",
        "else:\n",
        "  print('x+3 chua chac la so am')"
      ],
      "metadata": {
        "id": "524wmz_XP6am",
        "outputId": "161f259a-7398-41f8-ede2-bd22f0f2a719",
        "colab": {
          "base_uri": "https://localhost:8080/"
        }
      },
      "execution_count": null,
      "outputs": [
        {
          "output_type": "stream",
          "name": "stdout",
          "text": [
            "x+3 duong\n"
          ]
        }
      ]
    },
    {
      "cell_type": "markdown",
      "source": [
        "#Thực hành 7"
      ],
      "metadata": {
        "id": "4X0wEZEkR1hJ"
      }
    },
    {
      "cell_type": "code",
      "source": [
        "from sympy import *\n",
        "import sympy"
      ],
      "metadata": {
        "id": "tuB4Vni1R5-5"
      },
      "execution_count": null,
      "outputs": []
    },
    {
      "cell_type": "code",
      "source": [
        "goc_theta = Symbol('theta')\n",
        "2*sympy.sin(goc_theta) == sympy.sin(goc_theta) + sympy.sin(goc_theta)"
      ],
      "metadata": {
        "id": "1jIaHWDTSBk_",
        "outputId": "e0f753a4-06a7-4a1d-f720-b4cb035ec84f",
        "colab": {
          "base_uri": "https://localhost:8080/"
        }
      },
      "execution_count": null,
      "outputs": [
        {
          "output_type": "execute_result",
          "data": {
            "text/plain": [
              "True"
            ]
          },
          "metadata": {},
          "execution_count": 45
        }
      ]
    },
    {
      "cell_type": "code",
      "source": [
        "(2*sympy.sin(goc_theta)*sympy.cos(goc_theta)).equals(sympy.sin(2*goc_theta))"
      ],
      "metadata": {
        "id": "KU4KIOqYTBkG",
        "outputId": "28eaa8e1-62cf-4811-a8a3-f510f1413cad",
        "colab": {
          "base_uri": "https://localhost:8080/"
        }
      },
      "execution_count": null,
      "outputs": [
        {
          "output_type": "execute_result",
          "data": {
            "text/plain": [
              "True"
            ]
          },
          "metadata": {},
          "execution_count": 46
        }
      ]
    },
    {
      "cell_type": "markdown",
      "source": [
        "#Thực hành 8"
      ],
      "metadata": {
        "id": "LKETlQjMS7Mo"
      }
    },
    {
      "cell_type": "code",
      "source": [
        "from sympy import sin, solve, Symbol\n",
        "u = Symbol('u')\n",
        "t = Symbol('t')\n",
        "g = Symbol('g')\n",
        "theta = Symbol('theta')\n",
        "solve(u*sin(theta)-g*t, t)"
      ],
      "metadata": {
        "id": "yWq0_op0TAct",
        "outputId": "22c7512d-4e67-44cf-9a9d-c90a57e45e80",
        "colab": {
          "base_uri": "https://localhost:8080/"
        }
      },
      "execution_count": null,
      "outputs": [
        {
          "output_type": "execute_result",
          "data": {
            "text/plain": [
              "[u*sin(theta)/g]"
            ]
          },
          "metadata": {},
          "execution_count": 1
        }
      ]
    },
    {
      "cell_type": "markdown",
      "source": [
        "#Thực hành 9"
      ],
      "metadata": {
        "id": "Yvx4e97PVJN4"
      }
    },
    {
      "cell_type": "code",
      "source": [
        "from sympy import Limit, Symbol, S\n",
        "x = Symbol('x')\n",
        "Limit(1/x, x, S.Infinity)\n",
        "gioihan = Limit(1/x, x, S.Infinity)\n",
        "gioihan.doit()"
      ],
      "metadata": {
        "id": "qwBzsLBOVLnQ",
        "outputId": "7bd3e440-fbe1-4ace-e3e7-67978a81e68e",
        "colab": {
          "base_uri": "https://localhost:8080/",
          "height": 38
        }
      },
      "execution_count": null,
      "outputs": [
        {
          "output_type": "execute_result",
          "data": {
            "text/latex": "$\\displaystyle 0$",
            "text/plain": [
              "0"
            ]
          },
          "metadata": {},
          "execution_count": 15
        }
      ]
    },
    {
      "cell_type": "markdown",
      "source": [
        "#Thực hành 10"
      ],
      "metadata": {
        "id": "QwwgMkK_V6SN"
      }
    },
    {
      "cell_type": "code",
      "source": [
        "#10a\n",
        "from sympy import Limit, Symbol, sin\n",
        "x = Symbol('x')\n",
        "Limit(1/x, x, 0, dir='-').doit()"
      ],
      "metadata": {
        "id": "PT98l2IBV-UQ",
        "outputId": "19bc8047-d77f-4ec7-bb86-7aac91de358b",
        "colab": {
          "base_uri": "https://localhost:8080/",
          "height": 38
        }
      },
      "execution_count": null,
      "outputs": [
        {
          "output_type": "execute_result",
          "data": {
            "text/latex": "$\\displaystyle -\\infty$",
            "text/plain": [
              "-oo"
            ]
          },
          "metadata": {},
          "execution_count": 4
        }
      ]
    },
    {
      "cell_type": "code",
      "source": [
        "Limit(1/x, x, 0, dir='+').doit()"
      ],
      "metadata": {
        "id": "iDbehereWTBp",
        "outputId": "d7e65cbd-a4a9-4476-bd74-fafa64b4d8e6",
        "colab": {
          "base_uri": "https://localhost:8080/",
          "height": 38
        }
      },
      "execution_count": null,
      "outputs": [
        {
          "output_type": "execute_result",
          "data": {
            "text/latex": "$\\displaystyle \\infty$",
            "text/plain": [
              "oo"
            ]
          },
          "metadata": {},
          "execution_count": 5
        }
      ]
    },
    {
      "cell_type": "code",
      "source": [
        "#10b\n",
        "Limit(sin(x)/x, x, 0).doit()\n"
      ],
      "metadata": {
        "id": "ZlM6qTA_WlEj",
        "outputId": "e02fa6aa-c648-4c46-bf00-07e390846cb7",
        "colab": {
          "base_uri": "https://localhost:8080/",
          "height": 38
        }
      },
      "execution_count": null,
      "outputs": [
        {
          "output_type": "execute_result",
          "data": {
            "text/latex": "$\\displaystyle 1$",
            "text/plain": [
              "1"
            ]
          },
          "metadata": {},
          "execution_count": 6
        }
      ]
    },
    {
      "cell_type": "markdown",
      "source": [
        "#Thực hành 11"
      ],
      "metadata": {
        "id": "QE8tgfpiYlIq"
      }
    },
    {
      "cell_type": "code",
      "source": [
        "from sympy import Limit, sin, S, Symbol\n",
        "#11a\n",
        "x = Symbol('x')\n",
        "Limit(x*sin(1/x), x, S.Infinity).doit()"
      ],
      "metadata": {
        "id": "GsbY-m36YrPy",
        "outputId": "35f0a358-3e8d-4e32-f783-6ea09c1851b6",
        "colab": {
          "base_uri": "https://localhost:8080/",
          "height": 38
        }
      },
      "execution_count": null,
      "outputs": [
        {
          "output_type": "execute_result",
          "data": {
            "text/latex": "$\\displaystyle 1$",
            "text/plain": [
              "1"
            ]
          },
          "metadata": {},
          "execution_count": 2
        }
      ]
    },
    {
      "cell_type": "code",
      "source": [
        "#11b\n",
        "Limit(x*sin(1/x), x, S.Infinity)"
      ],
      "metadata": {
        "id": "GP_5QqpxDRiJ",
        "outputId": "ee6b47ac-2e66-43cb-9fc0-448000bb3d61",
        "colab": {
          "base_uri": "https://localhost:8080/",
          "height": 58
        }
      },
      "execution_count": null,
      "outputs": [
        {
          "output_type": "execute_result",
          "data": {
            "text/latex": "$\\displaystyle \\lim_{x \\to \\infty}\\left(x \\sin{\\left(\\frac{1}{x} \\right)}\\right)$",
            "text/plain": [
              "Limit(x*sin(1/x), x, oo, dir='-')"
            ]
          },
          "metadata": {},
          "execution_count": 3
        }
      ]
    },
    {
      "cell_type": "markdown",
      "source": [
        "#Thực hành 12"
      ],
      "metadata": {
        "id": "kxi1Kll5Fufu"
      }
    },
    {
      "cell_type": "code",
      "source": [
        "from sympy import Limit, Symbol, S\n",
        "n = Symbol('n')\n",
        "p = Symbol('p',positive = True)\n",
        "r = Symbol('r',positive = True)\n",
        "t = Symbol('t',positive = True)\n",
        "Limit(p*(1+r/n)**(n*t),n,S.Infinity).doit()"
      ],
      "metadata": {
        "id": "MipZjdHzFxMR",
        "outputId": "c1a728db-bdfd-4b5c-c1d5-0d6a72e434a4",
        "colab": {
          "base_uri": "https://localhost:8080/",
          "height": 39
        }
      },
      "execution_count": null,
      "outputs": [
        {
          "output_type": "execute_result",
          "data": {
            "text/latex": "$\\displaystyle p e^{r t}$",
            "text/plain": [
              "p*exp(r*t)"
            ]
          },
          "metadata": {},
          "execution_count": 11
        }
      ]
    },
    {
      "cell_type": "markdown",
      "source": [
        "#Thực hành 13"
      ],
      "metadata": {
        "id": "eOzqPHAJF3EH"
      }
    },
    {
      "cell_type": "code",
      "source": [
        "from sympy import Symbol, Limit\n",
        "t = Symbol(\"t\")\n",
        "st = 5*t**2 + 2*t + 8\n",
        "\n",
        "t1 = Symbol(\"t1\")\n",
        "delta_t = Symbol(\"delta_t\")\n",
        "st1 = st.subs({t:t1})\n",
        "st1_delta = st.subs({t:t1 + delta_t})"
      ],
      "metadata": {
        "id": "T08PJe8MF6kh"
      },
      "execution_count": 1,
      "outputs": []
    }
  ]
}