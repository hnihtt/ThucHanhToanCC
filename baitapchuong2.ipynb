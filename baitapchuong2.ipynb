{
  "nbformat": 4,
  "nbformat_minor": 0,
  "metadata": {
    "colab": {
      "name": "baitapchuong2.ipynb",
      "provenance": [],
      "authorship_tag": "ABX9TyNRopZ3JAb3yGU5zo1JhQXL",
      "include_colab_link": true
    },
    "kernelspec": {
      "name": "python3",
      "display_name": "Python 3"
    },
    "language_info": {
      "name": "python"
    }
  },
  "cells": [
    {
      "cell_type": "markdown",
      "metadata": {
        "id": "view-in-github",
        "colab_type": "text"
      },
      "source": [
        "<a href=\"https://colab.research.google.com/github/hnihtt/ThucHanhToanCC/blob/main/baitapchuong2.ipynb\" target=\"_parent\"><img src=\"https://colab.research.google.com/assets/colab-badge.svg\" alt=\"Open In Colab\"/></a>"
      ]
    },
    {
      "cell_type": "markdown",
      "source": [
        "#Bài tập 1: vẽ biểu đồ "
      ],
      "metadata": {
        "id": "KT5qZcSc7ZkW"
      }
    },
    {
      "cell_type": "markdown",
      "source": [
        "biểu đồ số ngày mưa trung bình của TpHCM\n",
        "\n"
      ],
      "metadata": {
        "id": "1-CDxXsp7xj6"
      }
    },
    {
      "cell_type": "code",
      "source": [
        "from pylab import plot, show"
      ],
      "metadata": {
        "id": "Y-UM4Tvv7cg1"
      },
      "execution_count": 1,
      "outputs": []
    },
    {
      "cell_type": "code",
      "source": [
        "rain_day = [2.4, 1.0, 1.9, 5.4, 17.8, 19.0, 22.9, 22.4, 23.1, 20.9, 12.1, 6.7]\n",
        "months = range(1,13)\n",
        "plot(months, rain_day, marker='o', color='g')\n",
        "show()"
      ],
      "metadata": {
        "colab": {
          "base_uri": "https://localhost:8080/",
          "height": 265
        },
        "id": "TyZnXG0U7df0",
        "outputId": "8c10c77a-4363-4969-fec6-6fc19325e052"
      },
      "execution_count": 4,
      "outputs": [
        {
          "output_type": "display_data",
          "data": {
            "text/plain": [
              "<Figure size 432x288 with 1 Axes>"
            ],
            "image/png": "[encoded data removed]"
          },
          "metadata": {
            "needs_background": "light"
          }
        }
      ]
    },
    {
      "cell_type": "markdown",
      "source": [
        "biểu đồ số giờ nắng trung bình hàng tháng của TpHCM"
      ],
      "metadata": {
        "id": "fLhZHR5j7qpA"
      }
    },
    {
      "cell_type": "code",
      "source": [
        "Average_hours_of_sunshine = [245, 246, 272, 239, 195, 171, 180, 172, 162, 182, 200, 226]\n",
        "months = range(1,13)\n",
        "plot(months, Average_hours_of_sunshine, marker='o', color='g')\n",
        "show()"
      ],
      "metadata": {
        "colab": {
          "base_uri": "https://localhost:8080/",
          "height": 265
        },
        "id": "TcZo2lbt7m6g",
        "outputId": "bf20639b-91ae-4dee-98a2-f01f860b6084"
      },
      "execution_count": 5,
      "outputs": [
        {
          "output_type": "display_data",
          "data": {
            "text/plain": [
              "<Figure size 432x288 with 1 Axes>"
            ],
            "image/png": "[encoded data removed]"
          },
          "metadata": {
            "needs_background": "light"
          }
        }
      ]
    },
    {
      "cell_type": "markdown",
      "source": [
        "#Bài tập 2: tính đạo hàm "
      ],
      "metadata": {
        "id": "AXY5CeDN73uS"
      }
    },
    {
      "cell_type": "markdown",
      "source": [
        "#f(x) = x3 – 4x2 + x – 1 "
      ],
      "metadata": {
        "id": "Pi6pVHpf8ENQ"
      }
    },
    {
      "cell_type": "code",
      "source": [
        "from sympy import Symbol, Derivative\n",
        "import sympy"
      ],
      "metadata": {
        "id": "4noGQ0Vm8K4f"
      },
      "execution_count": 9,
      "outputs": []
    },
    {
      "cell_type": "code",
      "source": [
        "x = Symbol('x')\n",
        "st = x**3 - 4*x**2 + x - 1\n",
        "Derivative(st,x).doit()"
      ],
      "metadata": {
        "colab": {
          "base_uri": "https://localhost:8080/",
          "height": 39
        },
        "id": "VAvr6j_u8OxI",
        "outputId": "46ebae80-d519-452d-f232-c75e07662cbd"
      },
      "execution_count": 7,
      "outputs": [
        {
          "output_type": "execute_result",
          "data": {
            "text/plain": [
              "3*x**2 - 8*x + 1"
            ],
            "text/latex": "$\\displaystyle 3 x^{2} - 8 x + 1$"
          },
          "metadata": {},
          "execution_count": 7
        }
      ]
    },
    {
      "cell_type": "markdown",
      "source": [
        "#f(t) = 5t**2 + 2t + 8"
      ],
      "metadata": {
        "id": "vZ62oDft8TQk"
      }
    },
    {
      "cell_type": "code",
      "source": [
        "t = Symbol('t')\n",
        "st = 5*t**2 + 2*t + 8\n",
        "Derivative(st,t).doit()"
      ],
      "metadata": {
        "colab": {
          "base_uri": "https://localhost:8080/",
          "height": 39
        },
        "id": "TTAYowqo8T9X",
        "outputId": "237299b9-61ce-409b-a47e-3cefcb85e33e"
      },
      "execution_count": 8,
      "outputs": [
        {
          "output_type": "execute_result",
          "data": {
            "text/plain": [
              "10*t + 2"
            ],
            "text/latex": "$\\displaystyle 10 t + 2$"
          },
          "metadata": {},
          "execution_count": 8
        }
      ]
    },
    {
      "cell_type": "markdown",
      "source": [
        "# f(x) = sin(x)cos(x) "
      ],
      "metadata": {
        "id": "b5wqQ9QV8Z4c"
      }
    },
    {
      "cell_type": "code",
      "source": [
        "x = Symbol('x')\n",
        "f = sympy.sin(x)*sympy.cos(x)\n",
        "Derivative(f,x).doit()"
      ],
      "metadata": {
        "colab": {
          "base_uri": "https://localhost:8080/",
          "height": 39
        },
        "id": "BUDVjxYz8XwY",
        "outputId": "6711fb22-1216-4aad-dd3b-302c56a9f394"
      },
      "execution_count": 10,
      "outputs": [
        {
          "output_type": "execute_result",
          "data": {
            "text/plain": [
              "-sin(x)**2 + cos(x)**2"
            ],
            "text/latex": "$\\displaystyle - \\sin^{2}{\\left(x \\right)} + \\cos^{2}{\\left(x \\right)}$"
          },
          "metadata": {},
          "execution_count": 10
        }
      ]
    },
    {
      "cell_type": "markdown",
      "source": [
        "#f(x) = (9 - x2)1/2"
      ],
      "metadata": {
        "id": "nTI7Iwsh8jFp"
      }
    },
    {
      "cell_type": "code",
      "source": [
        "x = Symbol('x')\n",
        "f = (9 - x**2) ** 1/2\n",
        "Derivative(f,x).doit()"
      ],
      "metadata": {
        "colab": {
          "base_uri": "https://localhost:8080/",
          "height": 39
        },
        "id": "gowfNIdc8lLl",
        "outputId": "4d346295-1ba6-4212-c995-8df318a7f9cc"
      },
      "execution_count": 11,
      "outputs": [
        {
          "output_type": "execute_result",
          "data": {
            "text/plain": [
              "-x"
            ],
            "text/latex": "$\\displaystyle - x$"
          },
          "metadata": {},
          "execution_count": 11
        }
      ]
    },
    {
      "cell_type": "markdown",
      "source": [
        "#f(x) = x**2 -8x + 9"
      ],
      "metadata": {
        "id": "HFnCJAUX8qLe"
      }
    },
    {
      "cell_type": "code",
      "source": [
        "x = Symbol('x')\n",
        "f = x**2 - 8*x + 9\n",
        "Derivative(f,x).doit()"
      ],
      "metadata": {
        "colab": {
          "base_uri": "https://localhost:8080/",
          "height": 39
        },
        "id": "IlOtDABh8ph9",
        "outputId": "236f08f5-210f-4ed0-c4a6-a8407f60e53a"
      },
      "execution_count": 12,
      "outputs": [
        {
          "output_type": "execute_result",
          "data": {
            "text/plain": [
              "2*x - 8"
            ],
            "text/latex": "$\\displaystyle 2 x - 8$"
          },
          "metadata": {},
          "execution_count": 12
        }
      ]
    },
    {
      "cell_type": "markdown",
      "source": [
        "#f(x) = (1 - x)/(2 + x)"
      ],
      "metadata": {
        "id": "1g97sGVT8t_K"
      }
    },
    {
      "cell_type": "code",
      "source": [
        "x = Symbol('x')\n",
        "f = (1 - x) / (2 + x)\n",
        "Derivative(f,x).doit()"
      ],
      "metadata": {
        "colab": {
          "base_uri": "https://localhost:8080/",
          "height": 58
        },
        "id": "MXmC1QM_8v0b",
        "outputId": "3d974f20-5096-4b13-c725-925617448832"
      },
      "execution_count": 13,
      "outputs": [
        {
          "output_type": "execute_result",
          "data": {
            "text/plain": [
              "-(1 - x)/(x + 2)**2 - 1/(x + 2)"
            ],
            "text/latex": "$\\displaystyle - \\frac{1 - x}{\\left(x + 2\\right)^{2}} - \\frac{1}{x + 2}$"
          },
          "metadata": {},
          "execution_count": 13
        }
      ]
    },
    {
      "cell_type": "markdown",
      "source": [
        "#f(x) = x**3 - x"
      ],
      "metadata": {
        "id": "9JbhRf8U8zAC"
      }
    },
    {
      "cell_type": "code",
      "source": [
        "x = Symbol(\"x\")\n",
        "f = x**3 - x\n",
        "Derivative(f,x).doit()"
      ],
      "metadata": {
        "colab": {
          "base_uri": "https://localhost:8080/",
          "height": 39
        },
        "id": "eUa4rdra8zih",
        "outputId": "8702c2d7-3033-4c25-8f4e-08900cda1b53"
      },
      "execution_count": 14,
      "outputs": [
        {
          "output_type": "execute_result",
          "data": {
            "text/plain": [
              "3*x**2 - 1"
            ],
            "text/latex": "$\\displaystyle 3 x^{2} - 1$"
          },
          "metadata": {},
          "execution_count": 14
        }
      ]
    },
    {
      "cell_type": "markdown",
      "source": [
        "#f(x) = 3 / (x2 + 2x -1)3"
      ],
      "metadata": {
        "id": "05Mvhg_982ck"
      }
    },
    {
      "cell_type": "code",
      "source": [
        "x = Symbol(\"x\")\n",
        "f = 3 / (x**2 + 2*x -1)**3\n",
        "Derivative(f,x).doit()"
      ],
      "metadata": {
        "colab": {
          "base_uri": "https://localhost:8080/",
          "height": 60
        },
        "id": "MTubUGxQ83Ev",
        "outputId": "bdf130f4-f2bd-4f59-ff51-16a64bc606a3"
      },
      "execution_count": 15,
      "outputs": [
        {
          "output_type": "execute_result",
          "data": {
            "text/plain": [
              "3*(-6*x - 6)/(x**2 + 2*x - 1)**4"
            ],
            "text/latex": "$\\displaystyle \\frac{3 \\left(- 6 x - 6\\right)}{\\left(x^{2} + 2 x - 1\\right)^{4}}$"
          },
          "metadata": {},
          "execution_count": 15
        }
      ]
    },
    {
      "cell_type": "markdown",
      "source": [
        "#f(x) = x8 + 12x5 - 4x4 + 10x3 - 6x + 5"
      ],
      "metadata": {
        "id": "be50hERQ86B7"
      }
    },
    {
      "cell_type": "code",
      "source": [
        "x = Symbol('x')\n",
        "f = x**8 + 12*x**5 - 4*x**4 + 10*x**3 + 6*x + 5\n",
        "Derivative(f,x).doit()"
      ],
      "metadata": {
        "colab": {
          "base_uri": "https://localhost:8080/",
          "height": 39
        },
        "id": "bUvpWdaT88WB",
        "outputId": "6358c221-01cf-4619-f427-8f6c83219dc6"
      },
      "execution_count": 16,
      "outputs": [
        {
          "output_type": "execute_result",
          "data": {
            "text/plain": [
              "8*x**7 + 60*x**4 - 16*x**3 + 30*x**2 + 6"
            ],
            "text/latex": "$\\displaystyle 8 x^{7} + 60 x^{4} - 16 x^{3} + 30 x^{2} + 6$"
          },
          "metadata": {},
          "execution_count": 16
        }
      ]
    },
    {
      "cell_type": "markdown",
      "source": [
        "#f(x) = (x4 - 3*x2 + 2)(x**2 - 3x)"
      ],
      "metadata": {
        "id": "ayXn4LyO8-lV"
      }
    },
    {
      "cell_type": "code",
      "source": [
        "x = Symbol('x')\n",
        "f = (x**4 -3*x**2 + 2)*(x**2 -3*x)\n",
        "Derivative(f,x).doit()"
      ],
      "metadata": {
        "id": "Q-ny5TZB9AHI",
        "outputId": "80c74f1d-d1d9-421f-dbe4-5e5bc9f32b50",
        "colab": {
          "base_uri": "https://localhost:8080/",
          "height": 39
        }
      },
      "execution_count": 17,
      "outputs": [
        {
          "output_type": "execute_result",
          "data": {
            "text/plain": [
              "(2*x - 3)*(x**4 - 3*x**2 + 2) + (x**2 - 3*x)*(4*x**3 - 6*x)"
            ],
            "text/latex": "$\\displaystyle \\left(2 x - 3\\right) \\left(x^{4} - 3 x^{2} + 2\\right) + \\left(x^{2} - 3 x\\right) \\left(4 x^{3} - 6 x\\right)$"
          },
          "metadata": {},
          "execution_count": 17
        }
      ]
    }
  ]
}