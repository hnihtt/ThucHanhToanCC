{
  "nbformat": 4,
  "nbformat_minor": 0,
  "metadata": {
    "colab": {
      "name": "baitapchuong5.ipynb",
      "provenance": [],
      "authorship_tag": "ABX9TyN5Wy8XcpoCMlEq4zbhqT7o",
      "include_colab_link": true
    },
    "kernelspec": {
      "name": "python3",
      "display_name": "Python 3"
    },
    "language_info": {
      "name": "python"
    }
  },
  "cells": [
    {
      "cell_type": "markdown",
      "metadata": {
        "id": "view-in-github",
        "colab_type": "text"
      },
      "source": [
        "<a href=\"https://colab.research.google.com/github/hnihtt/ThucHanhToanCC/blob/main/baitapchuong5.ipynb\" target=\"_parent\"><img src=\"https://colab.research.google.com/assets/colab-badge.svg\" alt=\"Open In Colab\"/></a>"
      ]
    },
    {
      "cell_type": "markdown",
      "source": [
        "#BT1: "
      ],
      "metadata": {
        "id": "FYSLviiN_VDV"
      }
    },
    {
      "cell_type": "code",
      "source": [
        "from sympy import Symbol, Derivative, solve"
      ],
      "metadata": {
        "id": "zk6i1Fuq_WfN"
      },
      "execution_count": 1,
      "outputs": []
    },
    {
      "cell_type": "code",
      "source": [
        "x = Symbol('x') # chieu rong hinh chu nhat\n",
        "y = Symbol('y') # chieu dai hinh chu nhat\n",
        "# S = 100(bd)\n",
        "S = x*y\n",
        "y = 100/x"
      ],
      "metadata": {
        "id": "I6PqMvsu_eod"
      },
      "execution_count": 2,
      "outputs": []
    },
    {
      "cell_type": "code",
      "source": [
        "P = 2*(x+ y)\n",
        "P"
      ],
      "metadata": {
        "colab": {
          "base_uri": "https://localhost:8080/",
          "height": 51
        },
        "id": "4OrAeLv_Ag7a",
        "outputId": "78db0052-042e-431a-9d1e-bf46fc628ecd"
      },
      "execution_count": 3,
      "outputs": [
        {
          "output_type": "execute_result",
          "data": {
            "text/plain": [
              "2*x + 200/x"
            ],
            "text/latex": "$\\displaystyle 2 x + \\frac{200}{x}$"
          },
          "metadata": {},
          "execution_count": 3
        }
      ]
    },
    {
      "cell_type": "code",
      "source": [
        "d1 = Derivative(P, x).doit()\n",
        "d1"
      ],
      "metadata": {
        "colab": {
          "base_uri": "https://localhost:8080/",
          "height": 51
        },
        "id": "SdhDiMhTAiaq",
        "outputId": "12ccc023-1e88-455b-af8c-fd912dbf59b2"
      },
      "execution_count": 4,
      "outputs": [
        {
          "output_type": "execute_result",
          "data": {
            "text/plain": [
              "2 - 200/x**2"
            ],
            "text/latex": "$\\displaystyle 2 - \\frac{200}{x^{2}}$"
          },
          "metadata": {},
          "execution_count": 4
        }
      ]
    },
    {
      "cell_type": "code",
      "source": [
        "A = solve(d1)\n",
        "A"
      ],
      "metadata": {
        "colab": {
          "base_uri": "https://localhost:8080/"
        },
        "id": "EzAUuLs7AjoZ",
        "outputId": "d1ebaa94-74f1-40c8-e713-7454c03b8575"
      },
      "execution_count": 5,
      "outputs": [
        {
          "output_type": "execute_result",
          "data": {
            "text/plain": [
              "[-10, 10]"
            ]
          },
          "metadata": {},
          "execution_count": 5
        }
      ]
    },
    {
      "cell_type": "code",
      "source": [
        "nghiem = A[1]\n",
        "nghiem"
      ],
      "metadata": {
        "colab": {
          "base_uri": "https://localhost:8080/",
          "height": 38
        },
        "id": "RS2bPnmiAmI3",
        "outputId": "9e65b206-4f3d-423a-831c-41ee9f912631"
      },
      "execution_count": 6,
      "outputs": [
        {
          "output_type": "execute_result",
          "data": {
            "text/plain": [
              "10"
            ],
            "text/latex": "$\\displaystyle 10$"
          },
          "metadata": {},
          "execution_count": 6
        }
      ]
    },
    {
      "cell_type": "code",
      "source": [
        "d2 = Derivative(d1,x).doit()\n",
        "d2"
      ],
      "metadata": {
        "colab": {
          "base_uri": "https://localhost:8080/",
          "height": 51
        },
        "id": "GILUziQTAnvv",
        "outputId": "6fe453a9-cf5f-4f4f-9b63-648ebf16f364"
      },
      "execution_count": 7,
      "outputs": [
        {
          "output_type": "execute_result",
          "data": {
            "text/plain": [
              "400/x**3"
            ],
            "text/latex": "$\\displaystyle \\frac{400}{x^{3}}$"
          },
          "metadata": {},
          "execution_count": 7
        }
      ]
    },
    {
      "cell_type": "code",
      "source": [
        "d2.subs({x:10}).evalf()"
      ],
      "metadata": {
        "colab": {
          "base_uri": "https://localhost:8080/",
          "height": 38
        },
        "id": "fysniOHdAo46",
        "outputId": "cd363641-474d-40aa-dd11-0db0a1c98145"
      },
      "execution_count": 8,
      "outputs": [
        {
          "output_type": "execute_result",
          "data": {
            "text/plain": [
              "0.400000000000000"
            ],
            "text/latex": "$\\displaystyle 0.4$"
          },
          "metadata": {},
          "execution_count": 8
        }
      ]
    },
    {
      "cell_type": "code",
      "source": [
        "P_min_v = P\n",
        "P_min_v.subs({x:10}).evalf()"
      ],
      "metadata": {
        "colab": {
          "base_uri": "https://localhost:8080/",
          "height": 38
        },
        "id": "tYszTX_eAq-z",
        "outputId": "edef8d1a-d001-4987-845a-45af958be9e4"
      },
      "execution_count": 9,
      "outputs": [
        {
          "output_type": "execute_result",
          "data": {
            "text/plain": [
              "40.0000000000000"
            ],
            "text/latex": "$\\displaystyle 40.0$"
          },
          "metadata": {},
          "execution_count": 9
        }
      ]
    },
    {
      "cell_type": "markdown",
      "source": [
        "#BT2: "
      ],
      "metadata": {
        "id": "K-d5UD3xA5Kq"
      }
    },
    {
      "cell_type": "code",
      "source": [
        "from sympy import *"
      ],
      "metadata": {
        "id": "3lg_CcRmA6Qa"
      },
      "execution_count": 10,
      "outputs": []
    },
    {
      "cell_type": "code",
      "source": [
        "x = Symbol('x') \n",
        "y = Symbol('y')\n",
        "w = Symbol('w')\n",
        "v = Symbol('v')\n",
        "a = Symbol('a')\n",
        "b = Symbol('b')"
      ],
      "metadata": {
        "id": "72K86JGjA8cQ"
      },
      "execution_count": 11,
      "outputs": []
    },
    {
      "cell_type": "code",
      "source": [
        "DB = a - x\n",
        "BA = sqrt(x*x + b*b)\n",
        "f = (a-x)/v + BA/w\n",
        "f"
      ],
      "metadata": {
        "colab": {
          "base_uri": "https://localhost:8080/",
          "height": 55
        },
        "id": "7IAfdEZpA-xp",
        "outputId": "a2654878-634d-4710-c084-0c2051e265b1"
      },
      "execution_count": 12,
      "outputs": [
        {
          "output_type": "execute_result",
          "data": {
            "text/plain": [
              "sqrt(b**2 + x**2)/w + (a - x)/v"
            ],
            "text/latex": "$\\displaystyle \\frac{\\sqrt{b^{2} + x^{2}}}{w} + \\frac{a - x}{v}$"
          },
          "metadata": {},
          "execution_count": 12
        }
      ]
    },
    {
      "cell_type": "code",
      "source": [
        "f1 = Derivative(f, x).doit()\n",
        "f1"
      ],
      "metadata": {
        "colab": {
          "base_uri": "https://localhost:8080/",
          "height": 55
        },
        "id": "M_Z5DxzRBATV",
        "outputId": "f010e82f-ab53-446a-a990-aff30fd149b9"
      },
      "execution_count": 13,
      "outputs": [
        {
          "output_type": "execute_result",
          "data": {
            "text/plain": [
              "x/(w*sqrt(b**2 + x**2)) - 1/v"
            ],
            "text/latex": "$\\displaystyle \\frac{x}{w \\sqrt{b^{2} + x^{2}}} - \\frac{1}{v}$"
          },
          "metadata": {},
          "execution_count": 13
        }
      ]
    },
    {
      "cell_type": "code",
      "source": [
        "cuctri = solve(f1,x)\n",
        "cuctri"
      ],
      "metadata": {
        "colab": {
          "base_uri": "https://localhost:8080/"
        },
        "id": "zofH4BKsBBgh",
        "outputId": "d4e349cf-1d42-4110-b1be-23f0decd97d9"
      },
      "execution_count": 14,
      "outputs": [
        {
          "output_type": "execute_result",
          "data": {
            "text/plain": [
              "[-b*w*sqrt(1/((v - w)*(v + w))), b*w*sqrt(1/((v - w)*(v + w)))]"
            ]
          },
          "metadata": {},
          "execution_count": 14
        }
      ]
    },
    {
      "cell_type": "code",
      "source": [
        "cuctri[0]"
      ],
      "metadata": {
        "colab": {
          "base_uri": "https://localhost:8080/",
          "height": 69
        },
        "id": "PMx8uL5dBDN1",
        "outputId": "89d86370-519b-44c4-8b79-8419230fe01a"
      },
      "execution_count": 15,
      "outputs": [
        {
          "output_type": "execute_result",
          "data": {
            "text/plain": [
              "-b*w*sqrt(1/((v - w)*(v + w)))"
            ],
            "text/latex": "$\\displaystyle - b w \\sqrt{\\frac{1}{\\left(v - w\\right) \\left(v + w\\right)}}$"
          },
          "metadata": {},
          "execution_count": 15
        }
      ]
    },
    {
      "cell_type": "code",
      "source": [
        "cuctri[1]"
      ],
      "metadata": {
        "colab": {
          "base_uri": "https://localhost:8080/",
          "height": 69
        },
        "id": "fE4yNTZbBEtM",
        "outputId": "b22ea76d-d7b4-471d-9ca5-77257c1c6e56"
      },
      "execution_count": 16,
      "outputs": [
        {
          "output_type": "execute_result",
          "data": {
            "text/plain": [
              "b*w*sqrt(1/((v - w)*(v + w)))"
            ],
            "text/latex": "$\\displaystyle b w \\sqrt{\\frac{1}{\\left(v - w\\right) \\left(v + w\\right)}}$"
          },
          "metadata": {},
          "execution_count": 16
        }
      ]
    },
    {
      "cell_type": "code",
      "source": [
        "f2 = Derivative(f1, x).doit()\n",
        "f2"
      ],
      "metadata": {
        "colab": {
          "base_uri": "https://localhost:8080/",
          "height": 63
        },
        "id": "b6F6GwOVBGJd",
        "outputId": "0d264227-e0aa-4c5e-8517-8150369d9c97"
      },
      "execution_count": 17,
      "outputs": [
        {
          "output_type": "execute_result",
          "data": {
            "text/plain": [
              "-x**2/(w*(b**2 + x**2)**(3/2)) + 1/(w*sqrt(b**2 + x**2))"
            ],
            "text/latex": "$\\displaystyle - \\frac{x^{2}}{w \\left(b^{2} + x^{2}\\right)^{\\frac{3}{2}}} + \\frac{1}{w \\sqrt{b^{2} + x^{2}}}$"
          },
          "metadata": {},
          "execution_count": 17
        }
      ]
    },
    {
      "cell_type": "code",
      "source": [
        "f.subs({x:0}).doit()"
      ],
      "metadata": {
        "id": "DJNIDj42BMEs",
        "outputId": "59eec38c-1f20-4b0d-dbf0-1d8241474c51",
        "colab": {
          "base_uri": "https://localhost:8080/",
          "height": 56
        }
      },
      "execution_count": 18,
      "outputs": [
        {
          "output_type": "execute_result",
          "data": {
            "text/plain": [
              "a/v + sqrt(b**2)/w"
            ],
            "text/latex": "$\\displaystyle \\frac{a}{v} + \\frac{\\sqrt{b^{2}}}{w}$"
          },
          "metadata": {},
          "execution_count": 18
        }
      ]
    },
    {
      "cell_type": "code",
      "source": [
        "f.subs({x:a}).doit()"
      ],
      "metadata": {
        "id": "oXBCNqV4BNMz",
        "outputId": "c44d000d-5665-448a-c378-9353b0965184",
        "colab": {
          "base_uri": "https://localhost:8080/",
          "height": 55
        }
      },
      "execution_count": 19,
      "outputs": [
        {
          "output_type": "execute_result",
          "data": {
            "text/plain": [
              "sqrt(a**2 + b**2)/w"
            ],
            "text/latex": "$\\displaystyle \\frac{\\sqrt{a^{2} + b^{2}}}{w}$"
          },
          "metadata": {},
          "execution_count": 19
        }
      ]
    },
    {
      "cell_type": "code",
      "source": [
        "x_min = a\n",
        "f.subs({x:x_min}).doit()"
      ],
      "metadata": {
        "id": "Nc6AFd92BOVr",
        "outputId": "bf915d09-7760-41cf-ca9a-4c1c81bf9d4d",
        "colab": {
          "base_uri": "https://localhost:8080/",
          "height": 55
        }
      },
      "execution_count": 20,
      "outputs": [
        {
          "output_type": "execute_result",
          "data": {
            "text/plain": [
              "sqrt(a**2 + b**2)/w"
            ],
            "text/latex": "$\\displaystyle \\frac{\\sqrt{a^{2} + b^{2}}}{w}$"
          },
          "metadata": {},
          "execution_count": 20
        }
      ]
    }
  ]
}