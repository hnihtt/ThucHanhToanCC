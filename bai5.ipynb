{
  "nbformat": 4,
  "nbformat_minor": 0,
  "metadata": {
    "colab": {
      "name": "bai5.ipynb",
      "provenance": [],
      "authorship_tag": "ABX9TyNCxdCnn86hvKN/SDjaIVOf",
      "include_colab_link": true
    },
    "kernelspec": {
      "name": "python3",
      "display_name": "Python 3"
    },
    "language_info": {
      "name": "python"
    }
  },
  "cells": [
    {
      "cell_type": "markdown",
      "metadata": {
        "id": "view-in-github",
        "colab_type": "text"
      },
      "source": [
        "<a href=\"https://colab.research.google.com/github/hnihtt/ThucHanhToanCC/blob/main/bai5.ipynb\" target=\"_parent\"><img src=\"https://colab.research.google.com/assets/colab-badge.svg\" alt=\"Open In Colab\"/></a>"
      ]
    },
    {
      "cell_type": "markdown",
      "source": [
        "#Thực hành 1:"
      ],
      "metadata": {
        "id": "0mKoWvGfd7lz"
      }
    },
    {
      "cell_type": "code",
      "source": [
        "import math"
      ],
      "metadata": {
        "id": "wjFEhketeQB5"
      },
      "execution_count": null,
      "outputs": []
    },
    {
      "cell_type": "code",
      "source": [
        "x = 3\n",
        "print(x)"
      ],
      "metadata": {
        "colab": {
          "base_uri": "https://localhost:8080/"
        },
        "id": "GAVcCGppeBFS",
        "outputId": "00b762a2-f389-41be-ae65-93e7df04b2bb"
      },
      "execution_count": null,
      "outputs": [
        {
          "output_type": "stream",
          "name": "stdout",
          "text": [
            "3\n"
          ]
        }
      ]
    },
    {
      "cell_type": "code",
      "source": [
        "x = math.sqrt(1+x)\n",
        "print(x)"
      ],
      "metadata": {
        "colab": {
          "base_uri": "https://localhost:8080/"
        },
        "id": "-QgpJNKweIhQ",
        "outputId": "bb81e50f-3186-481a-9f7b-dde864bac2ea"
      },
      "execution_count": null,
      "outputs": [
        {
          "output_type": "stream",
          "name": "stdout",
          "text": [
            "2.0\n"
          ]
        }
      ]
    },
    {
      "cell_type": "code",
      "source": [
        "x = math.sqrt(1+x)\n",
        "print(x)"
      ],
      "metadata": {
        "colab": {
          "base_uri": "https://localhost:8080/"
        },
        "id": "lIs3AQmveTmY",
        "outputId": "9fd5f692-dbde-4cdc-b9c1-bc9147ad021e"
      },
      "execution_count": null,
      "outputs": [
        {
          "output_type": "stream",
          "name": "stdout",
          "text": [
            "1.6528916502810695\n"
          ]
        }
      ]
    },
    {
      "cell_type": "code",
      "source": [
        "x = math.sqrt(1+x)\n",
        "print(x)"
      ],
      "metadata": {
        "colab": {
          "base_uri": "https://localhost:8080/"
        },
        "id": "u8qMrYSWehSS",
        "outputId": "27265ad9-d90c-49c6-bfc0-5027362eb2a8"
      },
      "execution_count": null,
      "outputs": [
        {
          "output_type": "stream",
          "name": "stdout",
          "text": [
            "1.6287699807772333\n"
          ]
        }
      ]
    },
    {
      "cell_type": "code",
      "source": [
        "x = math.sqrt(1+x)\n",
        "print(x)"
      ],
      "metadata": {
        "colab": {
          "base_uri": "https://localhost:8080/"
        },
        "id": "aKcO4OO0ejoq",
        "outputId": "5849660c-d418-4d35-b227-a45dec063445"
      },
      "execution_count": null,
      "outputs": [
        {
          "output_type": "stream",
          "name": "stdout",
          "text": [
            "1.621348198499395\n"
          ]
        }
      ]
    },
    {
      "cell_type": "code",
      "source": [
        "x = math.sqrt(1+x)\n",
        "print(x)"
      ],
      "metadata": {
        "colab": {
          "base_uri": "https://localhost:8080/"
        },
        "id": "lwwT_ZQeelGq",
        "outputId": "dd26e686-f2b9-488e-8166-045353014e12"
      },
      "execution_count": null,
      "outputs": [
        {
          "output_type": "stream",
          "name": "stdout",
          "text": [
            "1.6190578119694785\n"
          ]
        }
      ]
    },
    {
      "cell_type": "code",
      "source": [
        "x = math.sqrt(1+x)\n",
        "print(x)"
      ],
      "metadata": {
        "colab": {
          "base_uri": "https://localhost:8080/"
        },
        "id": "cj4T4T25eoB9",
        "outputId": "8da0b5bf-df20-4cd8-db4e-995bd8dce1ec"
      },
      "execution_count": null,
      "outputs": [
        {
          "output_type": "stream",
          "name": "stdout",
          "text": [
            "1.618350336598809\n"
          ]
        }
      ]
    },
    {
      "cell_type": "code",
      "source": [
        "x = math.sqrt(1+x)\n",
        "print(x)"
      ],
      "metadata": {
        "colab": {
          "base_uri": "https://localhost:8080/"
        },
        "id": "l7hzlG3Iep2-",
        "outputId": "c8aba8a1-f5d1-40c2-d350-40805bac8073"
      },
      "execution_count": null,
      "outputs": [
        {
          "output_type": "stream",
          "name": "stdout",
          "text": [
            "1.6181317426584303\n"
          ]
        }
      ]
    },
    {
      "cell_type": "markdown",
      "source": [
        "#Thực hành 2:"
      ],
      "metadata": {
        "id": "5-EsLGAJexI-"
      }
    },
    {
      "cell_type": "code",
      "source": [
        "import math\n",
        "x = 3\n",
        "lap = 1\n",
        "while (x != math.sqrt(x+1)):\n",
        "  x = math.sqrt(x+1)\n",
        "  lap += 1"
      ],
      "metadata": {
        "id": "fxMsWXkRezC1"
      },
      "execution_count": null,
      "outputs": []
    },
    {
      "cell_type": "code",
      "source": [
        "x"
      ],
      "metadata": {
        "colab": {
          "base_uri": "https://localhost:8080/"
        },
        "id": "7QVBK-NRfILZ",
        "outputId": "38735088-ca6d-4127-e21d-f94ed54d6f02"
      },
      "execution_count": null,
      "outputs": [
        {
          "output_type": "execute_result",
          "data": {
            "text/plain": [
              "1.618033988749895"
            ]
          },
          "metadata": {},
          "execution_count": 13
        }
      ]
    },
    {
      "cell_type": "code",
      "source": [
        "lap"
      ],
      "metadata": {
        "colab": {
          "base_uri": "https://localhost:8080/"
        },
        "id": "wQyMLshmfJeP",
        "outputId": "deb8404b-30df-41e3-f221-b553f8be39be"
      },
      "execution_count": null,
      "outputs": [
        {
          "output_type": "execute_result",
          "data": {
            "text/plain": [
              "32"
            ]
          },
          "metadata": {},
          "execution_count": 14
        }
      ]
    },
    {
      "cell_type": "markdown",
      "source": [
        "#Thực hành 3: "
      ],
      "metadata": {
        "id": "rf29RqGagGaW"
      }
    },
    {
      "cell_type": "code",
      "source": [
        "import sympy as sp \n",
        "from sympy import Symbol\n",
        "x = Symbol('x')\n",
        "sp.solve(x-sp.sqrt(1+x),x)"
      ],
      "metadata": {
        "colab": {
          "base_uri": "https://localhost:8080/"
        },
        "id": "32qXIeH8gI0U",
        "outputId": "35265ca1-2109-492f-b9de-0b5ed868d1ff"
      },
      "execution_count": null,
      "outputs": [
        {
          "output_type": "execute_result",
          "data": {
            "text/plain": [
              "[1/2 + sqrt(5)/2]"
            ]
          },
          "metadata": {},
          "execution_count": 15
        }
      ]
    },
    {
      "cell_type": "markdown",
      "source": [
        "#Thực hành 4:\n"
      ],
      "metadata": {
        "id": "EFT6aOCrgjJl"
      }
    },
    {
      "cell_type": "code",
      "source": [
        "import numpy as np\n",
        "v1 = np.array([1.,2.,3.])\n",
        "v2 = np.array([2.,1.,0.])\n",
        "#cộng vector:\n",
        "v3 = v1 + v2\n",
        "v3\n"
      ],
      "metadata": {
        "colab": {
          "base_uri": "https://localhost:8080/"
        },
        "id": "i5JNsuXWglX1",
        "outputId": "97ef897d-1efe-4a24-fe00-5a8d837ae7e4"
      },
      "execution_count": null,
      "outputs": [
        {
          "output_type": "execute_result",
          "data": {
            "text/plain": [
              "array([3., 3., 3.])"
            ]
          },
          "metadata": {},
          "execution_count": 20
        }
      ]
    },
    {
      "cell_type": "code",
      "source": [
        "3*v1 + 2*v2"
      ],
      "metadata": {
        "colab": {
          "base_uri": "https://localhost:8080/"
        },
        "id": "DOzY8L3Fhy8e",
        "outputId": "d81ad6e3-be79-48e7-ccc0-b68edf8f2e28"
      },
      "execution_count": null,
      "outputs": [
        {
          "output_type": "execute_result",
          "data": {
            "text/plain": [
              "array([7., 8., 9.])"
            ]
          },
          "metadata": {},
          "execution_count": 17
        }
      ]
    },
    {
      "cell_type": "code",
      "source": [
        "#numpy.array khác với kiểu dữ liệu list:\n",
        "[1,2,3] + [2,1,0]"
      ],
      "metadata": {
        "colab": {
          "base_uri": "https://localhost:8080/"
        },
        "id": "_SCfqEDah2z6",
        "outputId": "3b84cd6f-5e10-4ad4-a73f-97d5c297563d"
      },
      "execution_count": null,
      "outputs": [
        {
          "output_type": "execute_result",
          "data": {
            "text/plain": [
              "[1, 2, 3, 2, 1, 0]"
            ]
          },
          "metadata": {},
          "execution_count": 18
        }
      ]
    },
    {
      "cell_type": "code",
      "source": [
        "3*[1,2,3] + 2*[2,1,0]"
      ],
      "metadata": {
        "colab": {
          "base_uri": "https://localhost:8080/"
        },
        "id": "qQWXd4SsiDrB",
        "outputId": "0d70ab66-fef6-4b53-c2c6-253a7076beda"
      },
      "execution_count": null,
      "outputs": [
        {
          "output_type": "execute_result",
          "data": {
            "text/plain": [
              "[1, 2, 3, 1, 2, 3, 1, 2, 3, 2, 1, 0, 2, 1, 0]"
            ]
          },
          "metadata": {},
          "execution_count": 19
        }
      ]
    },
    {
      "cell_type": "code",
      "source": [
        "#ghép nối (Concatenating) 2 hoặc nhiều vector:\n",
        "v4 = np.hstack([v1,v2])\n",
        "v4"
      ],
      "metadata": {
        "colab": {
          "base_uri": "https://localhost:8080/"
        },
        "id": "cuIZiqpXiOfZ",
        "outputId": "19e6ef2e-a6b8-4bfb-ba34-07564564d871"
      },
      "execution_count": null,
      "outputs": [
        {
          "output_type": "execute_result",
          "data": {
            "text/plain": [
              "array([1., 2., 3., 2., 1., 0.])"
            ]
          },
          "metadata": {},
          "execution_count": 22
        }
      ]
    },
    {
      "cell_type": "code",
      "source": [
        "#phép nhân vô hướng 2 vector:\n",
        "np.dot(v1,v2)"
      ],
      "metadata": {
        "colab": {
          "base_uri": "https://localhost:8080/"
        },
        "id": "lcZ8_k_qiwL5",
        "outputId": "a693b953-3326-4698-8888-aa71828ed4f0"
      },
      "execution_count": null,
      "outputs": [
        {
          "output_type": "execute_result",
          "data": {
            "text/plain": [
              "4.0"
            ]
          },
          "metadata": {},
          "execution_count": 25
        }
      ]
    },
    {
      "cell_type": "code",
      "source": [
        "#tính giá trị sin của vector:\n",
        "angles = np.linspace(0,np.pi/2,5)\n",
        "angles"
      ],
      "metadata": {
        "colab": {
          "base_uri": "https://localhost:8080/"
        },
        "id": "yNaxruhNjIQh",
        "outputId": "e617d26f-a981-4e54-ec3b-72fdabdf1abc"
      },
      "execution_count": null,
      "outputs": [
        {
          "output_type": "execute_result",
          "data": {
            "text/plain": [
              "array([0.        , 0.39269908, 0.78539816, 1.17809725, 1.57079633])"
            ]
          },
          "metadata": {},
          "execution_count": 26
        }
      ]
    },
    {
      "cell_type": "code",
      "source": [
        "np.sin(angles)"
      ],
      "metadata": {
        "colab": {
          "base_uri": "https://localhost:8080/"
        },
        "id": "3DxQGrk4jcQm",
        "outputId": "36f7480f-a73f-4872-f956-b2de36928081"
      },
      "execution_count": null,
      "outputs": [
        {
          "output_type": "execute_result",
          "data": {
            "text/plain": [
              "array([0.        , 0.38268343, 0.70710678, 0.92387953, 1.        ])"
            ]
          },
          "metadata": {},
          "execution_count": 27
        }
      ]
    },
    {
      "cell_type": "code",
      "source": [
        "#Hàm xử lý sin trong gói sympy không hỗ trợ tính toán toàn bộ vector chứa dữ liệu \n",
        "import sympy as sy\n",
        "sy.sin(angles[0])"
      ],
      "metadata": {
        "id": "lNrfP9J06hEs",
        "outputId": "1fdbdedf-e81d-4301-db32-82bce2b28a14",
        "colab": {
          "base_uri": "https://localhost:8080/",
          "height": 182
        }
      },
      "execution_count": null,
      "outputs": [
        {
          "output_type": "error",
          "ename": "NameError",
          "evalue": "ignored",
          "traceback": [
            "\u001b[0;31m---------------------------------------------------------------------------\u001b[0m",
            "\u001b[0;31mNameError\u001b[0m                                 Traceback (most recent call last)",
            "\u001b[0;32m<ipython-input-1-3653e0865a03>\u001b[0m in \u001b[0;36m<module>\u001b[0;34m()\u001b[0m\n\u001b[1;32m      1\u001b[0m \u001b[0;32mimport\u001b[0m \u001b[0msympy\u001b[0m \u001b[0;32mas\u001b[0m \u001b[0msy\u001b[0m\u001b[0;34m\u001b[0m\u001b[0;34m\u001b[0m\u001b[0m\n\u001b[0;32m----> 2\u001b[0;31m \u001b[0msy\u001b[0m\u001b[0;34m.\u001b[0m\u001b[0msin\u001b[0m\u001b[0;34m(\u001b[0m\u001b[0mangles\u001b[0m\u001b[0;34m[\u001b[0m\u001b[0;36m0\u001b[0m\u001b[0;34m]\u001b[0m\u001b[0;34m)\u001b[0m\u001b[0;34m\u001b[0m\u001b[0;34m\u001b[0m\u001b[0m\n\u001b[0m",
            "\u001b[0;31mNameError\u001b[0m: name 'angles' is not defined"
          ]
        }
      ]
    },
    {
      "cell_type": "code",
      "source": [
        "#một đoạn chương trình lặp với vector mới được xây dựng sẵn tạm thời: \n",
        "from sympy import sin as sysin\n",
        "import numpy as np\n",
        "angles = np.linspace(0, np.pi/2, 5) \n",
        "sinangle = np.zeros(5) # tương đương >>> sinangle = np.array([0.0, 0.0, 0.0, 0.0, 0.0]) \n",
        "len(angles) # kiểm tra kích thước/số chiều của vector angles. \n",
        "for i in range(len(angles)): \n",
        " sinangle[i] = sysin(angles[i])\n",
        "sinangle "
      ],
      "metadata": {
        "id": "GNi_QmSz7Kf1",
        "outputId": "a7374cad-f9d7-4511-c05b-d667b8eae333",
        "colab": {
          "base_uri": "https://localhost:8080/"
        }
      },
      "execution_count": null,
      "outputs": [
        {
          "output_type": "execute_result",
          "data": {
            "text/plain": [
              "array([0.        , 0.38268343, 0.70710678, 0.92387953, 1.        ])"
            ]
          },
          "metadata": {},
          "execution_count": 3
        }
      ]
    },
    {
      "cell_type": "markdown",
      "source": [
        "#Thực hành 5: "
      ],
      "metadata": {
        "id": "ifNU3i0m7sXq"
      }
    },
    {
      "cell_type": "code",
      "source": [
        "import numpy as np\n",
        "goc = np.pi/3\n",
        "A = np.array([ [np.cos(goc), -np.sin(goc)], [np.sin(goc), np.cos(goc)] ])\n",
        "V = np.array([1., 0.])\n",
        "Y = np.dot(A, V)\n",
        "Y"
      ],
      "metadata": {
        "id": "5bFrKwBj7u0S",
        "outputId": "162b8e15-daef-4ff4-ec0e-513eac37db9b",
        "colab": {
          "base_uri": "https://localhost:8080/"
        }
      },
      "execution_count": null,
      "outputs": [
        {
          "output_type": "execute_result",
          "data": {
            "text/plain": [
              "array([0.5      , 0.8660254])"
            ]
          },
          "metadata": {},
          "execution_count": 4
        }
      ]
    },
    {
      "cell_type": "markdown",
      "source": [
        "#Thực hành 6: "
      ],
      "metadata": {
        "id": "Mwr-wuu57yUd"
      }
    },
    {
      "cell_type": "code",
      "source": [
        "from numpy import diff\n",
        "dx = 0.1\n",
        "y = [1, 2, 3, 4, 4, 5, 6]\n",
        "dy = diff(y)/dx\n",
        "dy"
      ],
      "metadata": {
        "id": "iELI6CNa7w8Z",
        "outputId": "83ff054d-f887-4f18-aee5-105cd489f3bf",
        "colab": {
          "base_uri": "https://localhost:8080/"
        }
      },
      "execution_count": null,
      "outputs": [
        {
          "output_type": "execute_result",
          "data": {
            "text/plain": [
              "array([10., 10., 10.,  0., 10., 10.])"
            ]
          },
          "metadata": {},
          "execution_count": 5
        }
      ]
    },
    {
      "cell_type": "code",
      "source": [
        "z = np.array([1,2,3,4,4,5,6])\n",
        "dz = diff(z)/dx\n",
        "dz"
      ],
      "metadata": {
        "id": "taLaQbHN72ba",
        "outputId": "841a4233-bdd4-499e-81a7-3a4cebd99069",
        "colab": {
          "base_uri": "https://localhost:8080/"
        }
      },
      "execution_count": null,
      "outputs": [
        {
          "output_type": "execute_result",
          "data": {
            "text/plain": [
              "array([10., 10., 10.,  0., 10., 10.])"
            ]
          },
          "metadata": {},
          "execution_count": 6
        }
      ]
    },
    {
      "cell_type": "code",
      "source": [
        "from numpy import diff\n",
        "x = [.1, .2, .5, .6, .7, .8, .9]\n",
        "y = [1,2,3,4,4,5,6]\n",
        "dydx = diff(y)/diff(x)\n",
        "print(dydx)"
      ],
      "metadata": {
        "id": "zwsl9scf73zd",
        "outputId": "f3aae8e3-a4cb-4974-9e49-804499b4df19",
        "colab": {
          "base_uri": "https://localhost:8080/"
        }
      },
      "execution_count": null,
      "outputs": [
        {
          "output_type": "stream",
          "name": "stdout",
          "text": [
            "[10.          3.33333333 10.          0.         10.         10.        ]\n"
          ]
        }
      ]
    },
    {
      "cell_type": "markdown",
      "source": [
        "#Thực hành 7: "
      ],
      "metadata": {
        "id": "emHlMEP4766S"
      }
    },
    {
      "cell_type": "code",
      "source": [
        "from sympy.geometry import *"
      ],
      "metadata": {
        "id": "WxQzXbWv78xG"
      },
      "execution_count": null,
      "outputs": []
    },
    {
      "cell_type": "code",
      "source": [
        "#Tạo các điểm P1, P2, P3 và P4\n",
        "P1 = Point(0,0)\n",
        "P2 = Point(3,4)\n",
        "P3 = Point(2,-1)\n",
        "P4 = Point(-1,-5)"
      ],
      "metadata": {
        "id": "QNqQtFQC8Qh3"
      },
      "execution_count": null,
      "outputs": []
    },
    {
      "cell_type": "code",
      "source": [
        "# Tạo 2 đoạn đường S1 và S2:\n",
        "S1 = Segment(P1,P2)\n",
        "S2 = Segment(P3,P4)"
      ],
      "metadata": {
        "id": "EoQYI3lX8R8N"
      },
      "execution_count": null,
      "outputs": []
    },
    {
      "cell_type": "code",
      "source": [
        "# Kiểm 3 điểm thẳng hàng:\n",
        "Point.is_collinear(P1,P2,P3)"
      ],
      "metadata": {
        "id": "S4YoByXM8TU_",
        "outputId": "2d81b58a-4486-4e65-d3bb-1d712e6a4efa",
        "colab": {
          "base_uri": "https://localhost:8080/"
        }
      },
      "execution_count": null,
      "outputs": [
        {
          "output_type": "execute_result",
          "data": {
            "text/plain": [
              "False"
            ]
          },
          "metadata": {},
          "execution_count": 12
        }
      ]
    },
    {
      "cell_type": "code",
      "source": [
        "# Độ dài của đoạn đường S1\n",
        "S1.length"
      ],
      "metadata": {
        "id": "LFGN6m768VC5",
        "outputId": "6b09634f-3a4b-4270-b971-e451aa9e9016",
        "colab": {
          "base_uri": "https://localhost:8080/",
          "height": 38
        }
      },
      "execution_count": null,
      "outputs": [
        {
          "output_type": "execute_result",
          "data": {
            "text/latex": "$\\displaystyle 5$",
            "text/plain": [
              "5"
            ]
          },
          "metadata": {},
          "execution_count": 13
        }
      ]
    },
    {
      "cell_type": "code",
      "source": [
        "# Lấy trung bình của đoạn 2:\n",
        "S2.midpoint"
      ],
      "metadata": {
        "id": "MVx4C_E68W7J",
        "outputId": "9f9d2f2a-b8a0-4a84-baa1-dc08b1a35ca4",
        "colab": {
          "base_uri": "https://localhost:8080/",
          "height": 58
        }
      },
      "execution_count": null,
      "outputs": [
        {
          "output_type": "execute_result",
          "data": {
            "text/latex": "$\\displaystyle Point2D\\left(\\frac{1}{2}, -3\\right)$",
            "text/plain": [
              "Point2D(1/2, -3)"
            ]
          },
          "metadata": {},
          "execution_count": 14
        }
      ]
    },
    {
      "cell_type": "code",
      "source": [
        "# Tính độ dốc của đường S1\n",
        "S1.slope"
      ],
      "metadata": {
        "id": "5cW9Nlsa8YPw",
        "outputId": "7ec96a08-8a00-4b81-85d8-1a0f925252d8",
        "colab": {
          "base_uri": "https://localhost:8080/",
          "height": 51
        }
      },
      "execution_count": null,
      "outputs": [
        {
          "output_type": "execute_result",
          "data": {
            "text/latex": "$\\displaystyle \\frac{4}{3}$",
            "text/plain": [
              "4/3"
            ]
          },
          "metadata": {},
          "execution_count": 15
        }
      ]
    },
    {
      "cell_type": "code",
      "source": [
        "# Tìm vị trí giao nhau giữa hai đoạn đường\n",
        "S1.intersection(S2)"
      ],
      "metadata": {
        "id": "rX2OZpGp8Zrj",
        "outputId": "08de1bc3-9943-4d1e-ce66-8af683480285",
        "colab": {
          "base_uri": "https://localhost:8080/"
        }
      },
      "execution_count": null,
      "outputs": [
        {
          "output_type": "execute_result",
          "data": {
            "text/plain": [
              "[]"
            ]
          },
          "metadata": {},
          "execution_count": 16
        }
      ]
    },
    {
      "cell_type": "code",
      "source": [
        "# Góc giữa hai đoạn đường\n",
        "Segment.angle_between(S1,S2)"
      ],
      "metadata": {
        "id": "uacdFkFg8a_U",
        "outputId": "4cd7e2dc-5682-412a-8b93-a835efc138e2",
        "colab": {
          "base_uri": "https://localhost:8080/",
          "height": 39
        }
      },
      "execution_count": null,
      "outputs": [
        {
          "output_type": "execute_result",
          "data": {
            "text/latex": "$\\displaystyle \\pi$",
            "text/plain": [
              "pi"
            ]
          },
          "metadata": {},
          "execution_count": 17
        }
      ]
    },
    {
      "cell_type": "code",
      "source": [
        "# Kiểm đoạn đường S1 có chứa điểm P3 hay không?\n",
        "S1.contains(P3)"
      ],
      "metadata": {
        "id": "oD3YsVT68cTo",
        "outputId": "7ae95cd9-49b0-4333-fdf7-5b689cd086c6",
        "colab": {
          "base_uri": "https://localhost:8080/"
        }
      },
      "execution_count": null,
      "outputs": [
        {
          "output_type": "execute_result",
          "data": {
            "text/plain": [
              "False"
            ]
          },
          "metadata": {},
          "execution_count": 18
        }
      ]
    },
    {
      "cell_type": "code",
      "source": [
        "# Lập và xem chương trình đường thẳng L1 đi qua 2 điểm P1 và P2:\n",
        "L1 = Line(P1,P2)\n",
        "L1.equation()"
      ],
      "metadata": {
        "id": "-1MbV9bu8db2",
        "outputId": "109241ab-0cd2-420d-e131-7a0f128504b2",
        "colab": {
          "base_uri": "https://localhost:8080/",
          "height": 39
        }
      },
      "execution_count": null,
      "outputs": [
        {
          "output_type": "execute_result",
          "data": {
            "text/latex": "$\\displaystyle - 4 x + 3 y$",
            "text/plain": [
              "-4*x + 3*y"
            ]
          },
          "metadata": {},
          "execution_count": 19
        }
      ]
    },
    {
      "cell_type": "code",
      "source": [
        "# Kiểm tính song song:\n",
        "L1.is_parallel(S1)"
      ],
      "metadata": {
        "id": "Mdm2r2Gb8e26",
        "outputId": "83242e3e-7836-495a-d797-55eda97ff0ea",
        "colab": {
          "base_uri": "https://localhost:8080/"
        }
      },
      "execution_count": null,
      "outputs": [
        {
          "output_type": "execute_result",
          "data": {
            "text/plain": [
              "True"
            ]
          },
          "metadata": {},
          "execution_count": 20
        }
      ]
    },
    {
      "cell_type": "code",
      "source": [
        "L1.is_parallel(S2)"
      ],
      "metadata": {
        "id": "O06ASnW98f99",
        "outputId": "caf9e944-d369-43bb-b731-8936bec915f3",
        "colab": {
          "base_uri": "https://localhost:8080/"
        }
      },
      "execution_count": null,
      "outputs": [
        {
          "output_type": "execute_result",
          "data": {
            "text/plain": [
              "True"
            ]
          },
          "metadata": {},
          "execution_count": 21
        }
      ]
    },
    {
      "cell_type": "markdown",
      "source": [
        "#Thực hành 8: "
      ],
      "metadata": {
        "id": "WKmiQpF18hL-"
      }
    },
    {
      "cell_type": "code",
      "source": [
        "import sympy\n",
        "from sympy import *"
      ],
      "metadata": {
        "id": "Bzp3GWgR8loM"
      },
      "execution_count": null,
      "outputs": []
    },
    {
      "cell_type": "code",
      "source": [
        "x = Symbol('x')\n",
        "f = x*sin(1/x)\n",
        "c = Symbol('c')\n",
        "delta = Symbol('delta')\n",
        "c = 0\n",
        "delta = 1/4\n",
        "sympy.plot(f,(x, c - delta, c + delta))"
      ],
      "metadata": {
        "id": "e6ozGqX58nqT",
        "outputId": "049fc22d-0b10-4221-85a1-30cdab3d268a",
        "colab": {
          "base_uri": "https://localhost:8080/",
          "height": 314
        }
      },
      "execution_count": null,
      "outputs": [
        {
          "output_type": "display_data",
          "data": {
            "image/png": "[encoded data removed]",
            "text/plain": [
              "<Figure size 432x288 with 1 Axes>"
            ]
          },
          "metadata": {
            "needs_background": "light"
          }
        },
        {
          "output_type": "execute_result",
          "data": {
            "text/plain": [
              "<sympy.plotting.plot.Plot at 0x7fc6b94e3a90>"
            ]
          },
          "metadata": {},
          "execution_count": 23
        }
      ]
    },
    {
      "cell_type": "code",
      "source": [
        "sympy.plot(f,abs(x), -abs(x), (x, c - delta, c + delta))"
      ],
      "metadata": {
        "id": "VNG-mAUN8o2q",
        "outputId": "19cc0be8-9c41-4e78-a171-c3b43eddad33",
        "colab": {
          "base_uri": "https://localhost:8080/",
          "height": 314
        }
      },
      "execution_count": null,
      "outputs": [
        {
          "output_type": "display_data",
          "data": {
            "image/png": "[encoded data removed]",
            "text/plain": [
              "<Figure size 432x288 with 1 Axes>"
            ]
          },
          "metadata": {
            "needs_background": "light"
          }
        },
        {
          "output_type": "execute_result",
          "data": {
            "text/plain": [
              "<sympy.plotting.plot.Plot at 0x7fc6b943ff50>"
            ]
          },
          "metadata": {},
          "execution_count": 24
        }
      ]
    },
    {
      "cell_type": "markdown",
      "source": [
        "#Thực hành 9: "
      ],
      "metadata": {
        "id": "XV_rMPRw8qUb"
      }
    },
    {
      "cell_type": "code",
      "source": [
        "from sympy import Symbol, solve, Derivative\n",
        "x = Symbol('x')\n",
        "f = -x**2 + 4*x - 3\n",
        "d1 = Derivative(f,x).doit()\n",
        "d1"
      ],
      "metadata": {
        "id": "ScYoAtjX8sMD",
        "outputId": "1c3e9a44-0e21-443a-cc66-3f94883979a0",
        "colab": {
          "base_uri": "https://localhost:8080/",
          "height": 39
        }
      },
      "execution_count": null,
      "outputs": [
        {
          "output_type": "execute_result",
          "data": {
            "text/latex": "$\\displaystyle 4 - 2 x$",
            "text/plain": [
              "4 - 2*x"
            ]
          },
          "metadata": {},
          "execution_count": 25
        }
      ]
    },
    {
      "cell_type": "code",
      "source": [
        "cuctri = solve(d1)\n",
        "cuctri"
      ],
      "metadata": {
        "id": "vTUEAQxq8vUa",
        "outputId": "c2141914-7a4b-446b-8fc9-defbce163659",
        "colab": {
          "base_uri": "https://localhost:8080/"
        }
      },
      "execution_count": null,
      "outputs": [
        {
          "output_type": "execute_result",
          "data": {
            "text/plain": [
              "[2]"
            ]
          },
          "metadata": {},
          "execution_count": 26
        }
      ]
    },
    {
      "cell_type": "code",
      "source": [
        "A = cuctri[0]\n",
        "d2 = Derivative(d1, x).doit()\n",
        "d2.subs({x:A}).evalf()"
      ],
      "metadata": {
        "id": "Dc5utJV38why",
        "outputId": "19ba1992-b9c4-4570-f743-54b29b52b220",
        "colab": {
          "base_uri": "https://localhost:8080/",
          "height": 38
        }
      },
      "execution_count": null,
      "outputs": [
        {
          "output_type": "execute_result",
          "data": {
            "text/latex": "$\\displaystyle -2.0$",
            "text/plain": [
              "-2.00000000000000"
            ]
          },
          "metadata": {},
          "execution_count": 27
        }
      ]
    },
    {
      "cell_type": "code",
      "source": [
        "x_min = 0\n",
        "x_max = 4\n",
        "f.subs({x:A}).evalf()"
      ],
      "metadata": {
        "id": "EWuFKooL8xpy",
        "outputId": "9379071f-f6a4-42e7-a3ae-1f0d456530b3",
        "colab": {
          "base_uri": "https://localhost:8080/",
          "height": 38
        }
      },
      "execution_count": null,
      "outputs": [
        {
          "output_type": "execute_result",
          "data": {
            "text/latex": "$\\displaystyle 1.0$",
            "text/plain": [
              "1.00000000000000"
            ]
          },
          "metadata": {},
          "execution_count": 28
        }
      ]
    },
    {
      "cell_type": "code",
      "source": [
        "f.subs({x:x_min}).evalf()"
      ],
      "metadata": {
        "id": "nASRRmDi8ysE",
        "outputId": "ae86c44e-50a4-4e0b-f604-0bea34e0a5fa",
        "colab": {
          "base_uri": "https://localhost:8080/",
          "height": 38
        }
      },
      "execution_count": null,
      "outputs": [
        {
          "output_type": "execute_result",
          "data": {
            "text/latex": "$\\displaystyle -3.0$",
            "text/plain": [
              "-3.00000000000000"
            ]
          },
          "metadata": {},
          "execution_count": 29
        }
      ]
    },
    {
      "cell_type": "code",
      "source": [
        "f.subs({x:x_max}).evalf()"
      ],
      "metadata": {
        "id": "QrhZSjdO8zv2",
        "outputId": "63b9e590-c477-423d-8b22-6d2fab55ad5f",
        "colab": {
          "base_uri": "https://localhost:8080/",
          "height": 38
        }
      },
      "execution_count": null,
      "outputs": [
        {
          "output_type": "execute_result",
          "data": {
            "text/latex": "$\\displaystyle -3.0$",
            "text/plain": [
              "-3.00000000000000"
            ]
          },
          "metadata": {},
          "execution_count": 31
        }
      ]
    },
    {
      "cell_type": "markdown",
      "source": [
        "#Thực hành 10: "
      ],
      "metadata": {
        "id": "t-arOSOMnhz8"
      }
    },
    {
      "cell_type": "code",
      "source": [
        "from sympy import Symbol, Derivative, solve"
      ],
      "metadata": {
        "id": "5HT4UWhMnjTk"
      },
      "execution_count": 1,
      "outputs": []
    },
    {
      "cell_type": "code",
      "source": [
        "x = Symbol('x')\n",
        "a = Symbol('a')\n",
        "A = -2*x**3 + 2*a*x\n",
        "d1 = Derivative(A,x).doit()\n",
        "d1"
      ],
      "metadata": {
        "id": "K8eODPYqnk0a",
        "outputId": "bd43d1e4-f5f5-4521-9244-5d2eab04c11c",
        "colab": {
          "base_uri": "https://localhost:8080/",
          "height": 39
        }
      },
      "execution_count": 2,
      "outputs": [
        {
          "output_type": "execute_result",
          "data": {
            "text/latex": "$\\displaystyle 2 a - 6 x^{2}$",
            "text/plain": [
              "2*a - 6*x**2"
            ]
          },
          "metadata": {},
          "execution_count": 2
        }
      ]
    },
    {
      "cell_type": "code",
      "source": [
        "cuctri = solve(d1,x)\n",
        "cuctri"
      ],
      "metadata": {
        "id": "vxBJ1TN5nsL6",
        "outputId": "ef0e2590-d7e0-48f4-99cb-531e9fb4ba40",
        "colab": {
          "base_uri": "https://localhost:8080/"
        }
      },
      "execution_count": 3,
      "outputs": [
        {
          "output_type": "execute_result",
          "data": {
            "text/plain": [
              "[-sqrt(3)*sqrt(a)/3, sqrt(3)*sqrt(a)/3]"
            ]
          },
          "metadata": {},
          "execution_count": 3
        }
      ]
    },
    {
      "cell_type": "code",
      "source": [
        "B = cuctri\n",
        "d2 = Derivative(d1, x).doit()\n",
        "d2.subs({x:B}).evalf()"
      ],
      "metadata": {
        "id": "Dyi5iq-YnuGH",
        "outputId": "d2d9ac05-be3e-46ea-9a32-5f1950abf845",
        "colab": {
          "base_uri": "https://localhost:8080/",
          "height": 39
        }
      },
      "execution_count": 4,
      "outputs": [
        {
          "output_type": "execute_result",
          "data": {
            "text/latex": "$\\displaystyle - 12.0 x$",
            "text/plain": [
              "-12.0*x"
            ]
          },
          "metadata": {},
          "execution_count": 4
        }
      ]
    },
    {
      "cell_type": "code",
      "source": [
        "x_min = 0\n",
        "A.subs({x:x_min}).evalf()"
      ],
      "metadata": {
        "id": "n3P5tooXnvfI",
        "outputId": "36fc59e5-0fe9-491b-b9cc-34e75d80e852",
        "colab": {
          "base_uri": "https://localhost:8080/",
          "height": 38
        }
      },
      "execution_count": 5,
      "outputs": [
        {
          "output_type": "execute_result",
          "data": {
            "text/latex": "$\\displaystyle 0$",
            "text/plain": [
              "0"
            ]
          },
          "metadata": {},
          "execution_count": 5
        }
      ]
    },
    {
      "cell_type": "markdown",
      "source": [
        "#Thực hành 11: "
      ],
      "metadata": {
        "id": "Ye12Qf85nxks"
      }
    },
    {
      "cell_type": "code",
      "source": [
        "from sympy import Derivative, solve, Symbol"
      ],
      "metadata": {
        "id": "gI34Mbtsn2Pf"
      },
      "execution_count": 6,
      "outputs": []
    },
    {
      "cell_type": "code",
      "source": [
        "x = Symbol('x')\n",
        "P = n*x - 2000000 - 500*n\n",
        "n = 5000 + 1000 * ( (1500 - x) /  100)"
      ],
      "metadata": {
        "id": "4bOw0dKfn41Q"
      },
      "execution_count": 28,
      "outputs": []
    },
    {
      "cell_type": "code",
      "source": [
        "T = P.subs({x:n})\n",
        "T"
      ],
      "metadata": {
        "id": "L8Yj9CIWn6BN",
        "outputId": "2970ec04-cdce-4e2b-cc81-9447b160eccf",
        "colab": {
          "base_uri": "https://localhost:8080/",
          "height": 39
        }
      },
      "execution_count": 44,
      "outputs": [
        {
          "output_type": "execute_result",
          "data": {
            "text/latex": "$\\displaystyle - 50000 x + \\left(20000 - 10 x\\right) \\left(100 x - 180000\\right) + 88000000$",
            "text/plain": [
              "-50000*x + (20000 - 10*x)*(100*x - 180000) + 88000000"
            ]
          },
          "metadata": {},
          "execution_count": 44
        }
      ]
    },
    {
      "cell_type": "code",
      "source": [
        "d = Derivative (T,x)\n",
        "d.doit()"
      ],
      "metadata": {
        "id": "bAQdKq-msZZe",
        "outputId": "7d5ba881-56d7-4d1d-ce00-96f7464927f5",
        "colab": {
          "base_uri": "https://localhost:8080/",
          "height": 39
        }
      },
      "execution_count": 46,
      "outputs": [
        {
          "output_type": "execute_result",
          "data": {
            "text/latex": "$\\displaystyle 3750000 - 2000 x$",
            "text/plain": [
              "3750000 - 2000*x"
            ]
          },
          "metadata": {},
          "execution_count": 46
        }
      ]
    }
  ]
}