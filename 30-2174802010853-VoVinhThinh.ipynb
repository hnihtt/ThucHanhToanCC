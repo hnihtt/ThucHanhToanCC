{
  "nbformat": 4,
  "nbformat_minor": 0,
  "metadata": {
    "colab": {
      "name": "thi.ipynb",
      "provenance": [],
      "authorship_tag": "ABX9TyPMuAVspn5KcWF97+/0E6S2",
      "include_colab_link": true
    },
    "kernelspec": {
      "name": "python3",
      "display_name": "Python 3"
    },
    "language_info": {
      "name": "python"
    }
  },
  "cells": [
    {
      "cell_type": "markdown",
      "metadata": {
        "id": "view-in-github",
        "colab_type": "text"
      },
      "source": [
        "<a href=\"https://colab.research.google.com/github/hnihtt/ThucHanhToanCC/blob/main/30-2174802010853-VoVinhThinh.ipynb\" target=\"_parent\"><img src=\"https://colab.research.google.com/assets/colab-badge.svg\" alt=\"Open In Colab\"/></a>"
      ]
    },
    {
      "cell_type": "markdown",
      "source": [
        "#giới hạn "
      ],
      "metadata": {
        "id": "7NHvHtkVohH2"
      }
    },
    {
      "cell_type": "code",
      "execution_count": 16,
      "metadata": {
        "id": "NjPchCtaobAy"
      },
      "outputs": [],
      "source": [
        "#3-5\n",
        "from sympy import Limit, Symbol\n",
        "x = Symbol('x')"
      ]
    },
    {
      "cell_type": "code",
      "source": [
        "Limit((1+x+x**2+x**3)/(1+x), x, 0)"
      ],
      "metadata": {
        "colab": {
          "base_uri": "https://localhost:8080/",
          "height": 58
        },
        "id": "i5Q-bruepVVi",
        "outputId": "69be7ed5-cfd3-4b33-ae86-e71b9863a0d2"
      },
      "execution_count": null,
      "outputs": [
        {
          "output_type": "execute_result",
          "data": {
            "text/plain": [
              "Limit((x**3 + x**2 + x + 1)/(x + 1), x, 0)"
            ],
            "text/latex": "$\\displaystyle \\lim_{x \\to 0^+}\\left(\\frac{x^{3} + x^{2} + x + 1}{x + 1}\\right)$"
          },
          "metadata": {},
          "execution_count": 2
        }
      ]
    },
    {
      "cell_type": "code",
      "source": [
        "gioihan = Limit((1+x+x**2+x**3)/(1+x), x, 0)\n",
        "gioihan.doit()"
      ],
      "metadata": {
        "colab": {
          "base_uri": "https://localhost:8080/",
          "height": 38
        },
        "id": "k-0gPQqyppWw",
        "outputId": "4079debe-01b3-40f6-b6ea-0762d8ed9113"
      },
      "execution_count": null,
      "outputs": [
        {
          "output_type": "execute_result",
          "data": {
            "text/plain": [
              "1"
            ],
            "text/latex": "$\\displaystyle 1$"
          },
          "metadata": {},
          "execution_count": 3
        }
      ]
    },
    {
      "cell_type": "code",
      "source": [
        "#3-3\n",
        "from sympy import Limit, Symbol, sin\n",
        "x = Symbol('x')"
      ],
      "metadata": {
        "id": "iY5Rpx2ypunT"
      },
      "execution_count": 17,
      "outputs": []
    },
    {
      "cell_type": "code",
      "source": [
        "gioihan = Limit((x**2)*sin(1/2), x, 0)\n",
        "gioihan.doit()"
      ],
      "metadata": {
        "colab": {
          "base_uri": "https://localhost:8080/",
          "height": 38
        },
        "id": "R-te6U1wqro_",
        "outputId": "5aa81d12-e14c-4e98-c2ae-08ce7c24956b"
      },
      "execution_count": null,
      "outputs": [
        {
          "output_type": "execute_result",
          "data": {
            "text/plain": [
              "0"
            ],
            "text/latex": "$\\displaystyle 0$"
          },
          "metadata": {},
          "execution_count": 14
        }
      ]
    },
    {
      "cell_type": "markdown",
      "source": [
        "#Đạo hàm "
      ],
      "metadata": {
        "id": "1Ygczct-rhov"
      }
    },
    {
      "cell_type": "markdown",
      "source": [
        "#2-2"
      ],
      "metadata": {
        "id": "H05ZlaaDtI5X"
      }
    },
    {
      "cell_type": "code",
      "source": [
        "from sympy import Symbol, Derivative "
      ],
      "metadata": {
        "id": "WZ2qQPMorju2"
      },
      "execution_count": null,
      "outputs": []
    },
    {
      "cell_type": "code",
      "source": [
        "x = Symbol('x')"
      ],
      "metadata": {
        "id": "G4OLRincr1rD"
      },
      "execution_count": null,
      "outputs": []
    },
    {
      "cell_type": "code",
      "source": [
        "st = (2*x-1)/(x+2)"
      ],
      "metadata": {
        "id": "fZk8f0nJr4zq"
      },
      "execution_count": null,
      "outputs": []
    },
    {
      "cell_type": "code",
      "source": [
        "Derivative(st, x)"
      ],
      "metadata": {
        "id": "k24uK7gosAPF",
        "outputId": "8f1bdb0e-c32f-4975-d9a4-f19169912db6",
        "colab": {
          "base_uri": "https://localhost:8080/",
          "height": 54
        }
      },
      "execution_count": null,
      "outputs": [
        {
          "output_type": "execute_result",
          "data": {
            "text/plain": [
              "Derivative((2*x - 1)/(x + 2), x)"
            ],
            "text/latex": "$\\displaystyle \\frac{d}{d x} \\frac{2 x - 1}{x + 2}$"
          },
          "metadata": {},
          "execution_count": 4
        }
      ]
    },
    {
      "cell_type": "code",
      "source": [
        "d = Derivative(st, x)\n",
        "d.doit()"
      ],
      "metadata": {
        "id": "8n_cVWQesF3e",
        "outputId": "5387b7be-4d72-4d96-e89f-94a2aa1d3ea8",
        "colab": {
          "base_uri": "https://localhost:8080/",
          "height": 58
        }
      },
      "execution_count": null,
      "outputs": [
        {
          "output_type": "execute_result",
          "data": {
            "text/plain": [
              "2/(x + 2) - (2*x - 1)/(x + 2)**2"
            ],
            "text/latex": "$\\displaystyle \\frac{2}{x + 2} - \\frac{2 x - 1}{\\left(x + 2\\right)^{2}}$"
          },
          "metadata": {},
          "execution_count": 5
        }
      ]
    },
    {
      "cell_type": "markdown",
      "source": [
        "#2-7"
      ],
      "metadata": {
        "id": "XqXjZpLptFKl"
      }
    },
    {
      "cell_type": "code",
      "source": [
        "from sympy import Symbol, Derivative "
      ],
      "metadata": {
        "id": "IXowcR-TsMFn"
      },
      "execution_count": null,
      "outputs": []
    },
    {
      "cell_type": "code",
      "source": [
        "x = Symbol('x')"
      ],
      "metadata": {
        "id": "l7DfPCQYtL7N"
      },
      "execution_count": null,
      "outputs": []
    },
    {
      "cell_type": "code",
      "source": [
        "gh = x**4 - 5*x**2 + 4"
      ],
      "metadata": {
        "id": "iMzCCtsItROM"
      },
      "execution_count": null,
      "outputs": []
    },
    {
      "cell_type": "code",
      "source": [
        "Derivative(gh, x)"
      ],
      "metadata": {
        "id": "tmTdjdTNtfaX",
        "outputId": "b0ed96f4-0cb6-4e7b-b7bd-c04406796596",
        "colab": {
          "base_uri": "https://localhost:8080/",
          "height": 52
        }
      },
      "execution_count": null,
      "outputs": [
        {
          "output_type": "execute_result",
          "data": {
            "text/plain": [
              "Derivative(x**4 - 5*x**2 + 4, x)"
            ],
            "text/latex": "$\\displaystyle \\frac{d}{d x} \\left(x^{4} - 5 x^{2} + 4\\right)$"
          },
          "metadata": {},
          "execution_count": 11
        }
      ]
    },
    {
      "cell_type": "code",
      "source": [
        "b = Derivative(gh, x)\n",
        "c = b.doit()\n",
        "c"
      ],
      "metadata": {
        "id": "en2g0xUetxtR",
        "outputId": "a9b6c6b4-1a24-42c8-db04-902af44c7473",
        "colab": {
          "base_uri": "https://localhost:8080/",
          "height": 39
        }
      },
      "execution_count": null,
      "outputs": [
        {
          "output_type": "execute_result",
          "data": {
            "text/plain": [
              "4*x**3 - 10*x"
            ],
            "text/latex": "$\\displaystyle 4 x^{3} - 10 x$"
          },
          "metadata": {},
          "execution_count": 14
        }
      ]
    },
    {
      "cell_type": "code",
      "source": [
        "c.subs({x:2})"
      ],
      "metadata": {
        "id": "vZubqXkxuUNt",
        "outputId": "f961984b-0e2d-4159-90e5-4c269f64d321",
        "colab": {
          "base_uri": "https://localhost:8080/",
          "height": 38
        }
      },
      "execution_count": null,
      "outputs": [
        {
          "output_type": "execute_result",
          "data": {
            "text/plain": [
              "12"
            ],
            "text/latex": "$\\displaystyle 12$"
          },
          "metadata": {},
          "execution_count": 15
        }
      ]
    }
  ]
}