{
  "nbformat": 4,
  "nbformat_minor": 0,
  "metadata": {
    "colab": {
      "name": "thi.ipynb",
      "provenance": [],
      "authorship_tag": "ABX9TyM+caj6pz/s1BjmX80KaLSf",
      "include_colab_link": true
    },
    "kernelspec": {
      "name": "python3",
      "display_name": "Python 3"
    },
    "language_info": {
      "name": "python"
    }
  },
  "cells": [
    {
      "cell_type": "markdown",
      "metadata": {
        "id": "view-in-github",
        "colab_type": "text"
      },
      "source": [
        "<a href=\"https://colab.research.google.com/github/hnihtt/ThucHanhToanCC/blob/main/30-2174802010853-VoVinhThinh.ipynb\" target=\"_parent\"><img src=\"https://colab.research.google.com/assets/colab-badge.svg\" alt=\"Open In Colab\"/></a>"
      ]
    },
    {
      "cell_type": "markdown",
      "source": [
        "#giới hạn "
      ],
      "metadata": {
        "id": "7NHvHtkVohH2"
      }
    },
    {
      "cell_type": "code",
      "execution_count": null,
      "metadata": {
        "id": "NjPchCtaobAy"
      },
      "outputs": [],
      "source": [
        "#3-5\n",
        "from sympy import Limit, Symbol, S\n",
        "x = Symbol('x')"
      ]
    },
    {
      "cell_type": "code",
      "source": [
        "Limit((1+x+x**2+x**3)/(1+x), x, 0)"
      ],
      "metadata": {
        "colab": {
          "base_uri": "https://localhost:8080/",
          "height": 58
        },
        "id": "i5Q-bruepVVi",
        "outputId": "69be7ed5-cfd3-4b33-ae86-e71b9863a0d2"
      },
      "execution_count": null,
      "outputs": [
        {
          "output_type": "execute_result",
          "data": {
            "text/plain": [
              "Limit((x**3 + x**2 + x + 1)/(x + 1), x, 0)"
            ],
            "text/latex": "$\\displaystyle \\lim_{x \\to 0^+}\\left(\\frac{x^{3} + x^{2} + x + 1}{x + 1}\\right)$"
          },
          "metadata": {},
          "execution_count": 2
        }
      ]
    },
    {
      "cell_type": "code",
      "source": [
        "gioihan = Limit((1+x+x**2+x**3)/(1+x), x, 0)\n",
        "gioihan.doit()"
      ],
      "metadata": {
        "colab": {
          "base_uri": "https://localhost:8080/",
          "height": 38
        },
        "id": "k-0gPQqyppWw",
        "outputId": "4079debe-01b3-40f6-b6ea-0762d8ed9113"
      },
      "execution_count": null,
      "outputs": [
        {
          "output_type": "execute_result",
          "data": {
            "text/plain": [
              "1"
            ],
            "text/latex": "$\\displaystyle 1$"
          },
          "metadata": {},
          "execution_count": 3
        }
      ]
    },
    {
      "cell_type": "code",
      "source": [
        "#3-3\n",
        "from sympy import Limit, Symbol, S, sin\n",
        "x = Symbol('x')"
      ],
      "metadata": {
        "id": "iY5Rpx2ypunT"
      },
      "execution_count": null,
      "outputs": []
    },
    {
      "cell_type": "code",
      "source": [
        "gioihan = Limit((x**2)*sin(1/2), x, 0)\n",
        "gioihan.doit()"
      ],
      "metadata": {
        "colab": {
          "base_uri": "https://localhost:8080/",
          "height": 38
        },
        "id": "R-te6U1wqro_",
        "outputId": "5aa81d12-e14c-4e98-c2ae-08ce7c24956b"
      },
      "execution_count": null,
      "outputs": [
        {
          "output_type": "execute_result",
          "data": {
            "text/plain": [
              "0"
            ],
            "text/latex": "$\\displaystyle 0$"
          },
          "metadata": {},
          "execution_count": 14
        }
      ]
    }
  ]
}