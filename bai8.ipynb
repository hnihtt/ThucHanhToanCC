{
  "nbformat": 4,
  "nbformat_minor": 0,
  "metadata": {
    "colab": {
      "name": "bai8.ipynb",
      "provenance": [],
      "authorship_tag": "ABX9TyMh2z/25msgwkvxvC0ZrNn8",
      "include_colab_link": true
    },
    "kernelspec": {
      "name": "python3",
      "display_name": "Python 3"
    },
    "language_info": {
      "name": "python"
    }
  },
  "cells": [
    {
      "cell_type": "markdown",
      "metadata": {
        "id": "view-in-github",
        "colab_type": "text"
      },
      "source": [
        "<a href=\"https://colab.research.google.com/github/hnihtt/ThucHanhToanCC/blob/main/bai8.ipynb\" target=\"_parent\"><img src=\"https://colab.research.google.com/assets/colab-badge.svg\" alt=\"Open In Colab\"/></a>"
      ]
    },
    {
      "cell_type": "markdown",
      "source": [
        "#Thực hành 1:"
      ],
      "metadata": {
        "id": "oSE51pmTauwW"
      }
    },
    {
      "cell_type": "code",
      "source": [
        "#a:\n",
        "y = (3,5,7)\n",
        "y"
      ],
      "metadata": {
        "colab": {
          "base_uri": "https://localhost:8080/"
        },
        "id": "T7d7LKKsaxtn",
        "outputId": "a96b7f2f-6a3c-4c5b-eb3c-450b3bdddf6b"
      },
      "execution_count": 1,
      "outputs": [
        {
          "output_type": "execute_result",
          "data": {
            "text/plain": [
              "(3, 5, 7)"
            ]
          },
          "metadata": {},
          "execution_count": 1
        }
      ]
    },
    {
      "cell_type": "code",
      "source": [
        "y[1]"
      ],
      "metadata": {
        "colab": {
          "base_uri": "https://localhost:8080/"
        },
        "id": "EIAjl71na2vF",
        "outputId": "b19f7892-537e-4608-f318-fb2b05f0156c"
      },
      "execution_count": 2,
      "outputs": [
        {
          "output_type": "execute_result",
          "data": {
            "text/plain": [
              "5"
            ]
          },
          "metadata": {},
          "execution_count": 2
        }
      ]
    },
    {
      "cell_type": "code",
      "source": [
        "y[1] = 4"
      ],
      "metadata": {
        "colab": {
          "base_uri": "https://localhost:8080/",
          "height": 165
        },
        "id": "puDugca1a3a5",
        "outputId": "f5a39e20-c27d-45c0-d416-b732f4ad2c71"
      },
      "execution_count": 3,
      "outputs": [
        {
          "output_type": "error",
          "ename": "TypeError",
          "evalue": "ignored",
          "traceback": [
            "\u001b[0;31m---------------------------------------------------------------------------\u001b[0m",
            "\u001b[0;31mTypeError\u001b[0m                                 Traceback (most recent call last)",
            "\u001b[0;32m<ipython-input-3-18bdcc95c704>\u001b[0m in \u001b[0;36m<module>\u001b[0;34m()\u001b[0m\n\u001b[0;32m----> 1\u001b[0;31m \u001b[0my\u001b[0m\u001b[0;34m[\u001b[0m\u001b[0;36m1\u001b[0m\u001b[0;34m]\u001b[0m \u001b[0;34m=\u001b[0m \u001b[0;36m4\u001b[0m\u001b[0;34m\u001b[0m\u001b[0;34m\u001b[0m\u001b[0m\n\u001b[0m",
            "\u001b[0;31mTypeError\u001b[0m: 'tuple' object does not support item assignment"
          ]
        }
      ]
    },
    {
      "cell_type": "code",
      "source": [
        "#b:\n",
        "from __future__ import division\n",
        "10/3"
      ],
      "metadata": {
        "colab": {
          "base_uri": "https://localhost:8080/"
        },
        "id": "bfmTN1EKa62C",
        "outputId": "d79adbac-b2f7-41b6-a446-bc2f133f7170"
      },
      "execution_count": 4,
      "outputs": [
        {
          "output_type": "execute_result",
          "data": {
            "text/plain": [
              "3.3333333333333335"
            ]
          },
          "metadata": {},
          "execution_count": 4
        }
      ]
    },
    {
      "cell_type": "code",
      "source": [
        "#c:\n",
        "import sympy \n",
        "from sympy import Symbol\n",
        "x = Symbol('x')\n",
        "y = x + 1\n",
        "y.subs(x,14)"
      ],
      "metadata": {
        "colab": {
          "base_uri": "https://localhost:8080/",
          "height": 38
        },
        "id": "EjvetDKLbEH9",
        "outputId": "3255502a-4c89-4c05-b4de-45d2ef9c2813"
      },
      "execution_count": 5,
      "outputs": [
        {
          "output_type": "execute_result",
          "data": {
            "text/plain": [
              "15"
            ],
            "text/latex": "$\\displaystyle 15$"
          },
          "metadata": {},
          "execution_count": 5
        }
      ]
    },
    {
      "cell_type": "code",
      "source": [
        "#d:\n",
        "import sympy \n",
        "from sympy import Symbol\n",
        "x = Symbol('x')\n",
        "from sympy import pi\n",
        "z = pi - 18*x\n",
        "z.subs(x,y)"
      ],
      "metadata": {
        "colab": {
          "base_uri": "https://localhost:8080/",
          "height": 39
        },
        "id": "-rrbGGf3bJtF",
        "outputId": "c5160e52-fbb4-4574-a6a3-ae5aecd711ca"
      },
      "execution_count": 6,
      "outputs": [
        {
          "output_type": "execute_result",
          "data": {
            "text/plain": [
              "-18*x - 18 + pi"
            ],
            "text/latex": "$\\displaystyle - 18 x - 18 + \\pi$"
          },
          "metadata": {},
          "execution_count": 6
        }
      ]
    },
    {
      "cell_type": "code",
      "source": [
        "t = Symbol('t')\n",
        "z = pi - 18*x\n",
        "z.subs(x,t)"
      ],
      "metadata": {
        "colab": {
          "base_uri": "https://localhost:8080/",
          "height": 39
        },
        "id": "-d35oQO5bRDl",
        "outputId": "8f606fb1-3422-45af-9418-9687415d176b"
      },
      "execution_count": 7,
      "outputs": [
        {
          "output_type": "execute_result",
          "data": {
            "text/plain": [
              "pi - 18*t"
            ],
            "text/latex": "$\\displaystyle \\pi - 18 t$"
          },
          "metadata": {},
          "execution_count": 7
        }
      ]
    },
    {
      "cell_type": "markdown",
      "source": [
        "#Thực hành 2: "
      ],
      "metadata": {
        "id": "X-nVCrm4bSUj"
      }
    },
    {
      "cell_type": "code",
      "source": [
        "from sympy import solve, sin\n",
        "x = Symbol('x')\n",
        "y = Symbol('y')\n",
        "solve(x-1,x)"
      ],
      "metadata": {
        "colab": {
          "base_uri": "https://localhost:8080/"
        },
        "id": "kBDhCY_5bTuV",
        "outputId": "e0d7f743-655a-44f0-ba39-bde1c7f9e66c"
      },
      "execution_count": 8,
      "outputs": [
        {
          "output_type": "execute_result",
          "data": {
            "text/plain": [
              "[1]"
            ]
          },
          "metadata": {},
          "execution_count": 8
        }
      ]
    },
    {
      "cell_type": "code",
      "source": [
        "solve(x**2-1,x)"
      ],
      "metadata": {
        "colab": {
          "base_uri": "https://localhost:8080/"
        },
        "id": "_uYnMHTBbVsC",
        "outputId": "715d8df4-36de-463b-ff30-17a98323e8e2"
      },
      "execution_count": 9,
      "outputs": [
        {
          "output_type": "execute_result",
          "data": {
            "text/plain": [
              "[-1, 1]"
            ]
          },
          "metadata": {},
          "execution_count": 9
        }
      ]
    },
    {
      "cell_type": "code",
      "source": [
        "solve(x**2+1,x)"
      ],
      "metadata": {
        "colab": {
          "base_uri": "https://localhost:8080/"
        },
        "id": "3dFuLco-bW2f",
        "outputId": "0fee0120-dbd2-473d-af76-5cd5ad7311c7"
      },
      "execution_count": 10,
      "outputs": [
        {
          "output_type": "execute_result",
          "data": {
            "text/plain": [
              "[-I, I]"
            ]
          },
          "metadata": {},
          "execution_count": 10
        }
      ]
    },
    {
      "cell_type": "code",
      "source": [
        "solve(sin(x), x)"
      ],
      "metadata": {
        "colab": {
          "base_uri": "https://localhost:8080/"
        },
        "id": "csWO5-2hbYMJ",
        "outputId": "dca42c9b-ff1f-4c42-95f4-d3f8723209cb"
      },
      "execution_count": 11,
      "outputs": [
        {
          "output_type": "execute_result",
          "data": {
            "text/plain": [
              "[0, pi]"
            ]
          },
          "metadata": {},
          "execution_count": 11
        }
      ]
    },
    {
      "cell_type": "markdown",
      "source": [
        "#Thực hành 3: "
      ],
      "metadata": {
        "id": "gNuHeN_9bZHR"
      }
    },
    {
      "cell_type": "code",
      "source": [
        "from sympy import solveset\n",
        "solveset(sin(x),x)"
      ],
      "metadata": {
        "colab": {
          "base_uri": "https://localhost:8080/",
          "height": 39
        },
        "id": "4c98HhiTbabH",
        "outputId": "8004a19e-b1f0-41a6-a7d2-1bd23c3c70ac"
      },
      "execution_count": 12,
      "outputs": [
        {
          "output_type": "execute_result",
          "data": {
            "text/plain": [
              "Union(ImageSet(Lambda(_n, 2*_n*pi + pi), Integers), ImageSet(Lambda(_n, 2*_n*pi), Integers))"
            ],
            "text/latex": "$\\displaystyle \\left\\{2 n \\pi\\; |\\; n \\in \\mathbb{Z}\\right\\} \\cup \\left\\{2 n \\pi + \\pi\\; |\\; n \\in \\mathbb{Z}\\right\\}$"
          },
          "metadata": {},
          "execution_count": 12
        }
      ]
    },
    {
      "cell_type": "markdown",
      "source": [
        "#Thực hành 4: "
      ],
      "metadata": {
        "id": "3A2GDmnlbb8v"
      }
    },
    {
      "cell_type": "code",
      "source": [
        "from sympy import solveset, S\n",
        "from sympy.abc import x,y,z\n",
        "solveset(x**2 + 1, x) # mặc định là miền số phức: domain = S.Complexes"
      ],
      "metadata": {
        "colab": {
          "base_uri": "https://localhost:8080/",
          "height": 39
        },
        "id": "xNtGmhfJbdKd",
        "outputId": "0c400e38-c915-44d6-8222-b184714d8829"
      },
      "execution_count": 13,
      "outputs": [
        {
          "output_type": "execute_result",
          "data": {
            "text/plain": [
              "FiniteSet(I, -I)"
            ],
            "text/latex": "$\\displaystyle \\left\\{- i, i\\right\\}$"
          },
          "metadata": {},
          "execution_count": 13
        }
      ]
    },
    {
      "cell_type": "code",
      "source": [
        "solveset(x**2 + 1, x, domain = S.Reals) # miền số phức "
      ],
      "metadata": {
        "colab": {
          "base_uri": "https://localhost:8080/",
          "height": 38
        },
        "id": "r0SQyPo0bjv2",
        "outputId": "06ebcad8-5193-4db3-bafd-5df802f0cf94"
      },
      "execution_count": 14,
      "outputs": [
        {
          "output_type": "execute_result",
          "data": {
            "text/plain": [
              "EmptySet"
            ],
            "text/latex": "$\\displaystyle \\emptyset$"
          },
          "metadata": {},
          "execution_count": 14
        }
      ]
    },
    {
      "cell_type": "markdown",
      "source": [
        "#Thực hành 5: "
      ],
      "metadata": {
        "id": "Tgzrv__yborU"
      }
    },
    {
      "cell_type": "code",
      "source": [
        "from sympy import solveset, S\n",
        "from sympy.abc import x,y,z\n",
        "from sympy import E\n",
        "solveset(e**x-1, x) # mặc định là miền số phức: domain = S.Complexes"
      ],
      "metadata": {
        "colab": {
          "base_uri": "https://localhost:8080/",
          "height": 200
        },
        "id": "X5CgC1Ppbnaj",
        "outputId": "c907c329-7545-42f4-921b-e311ab19198e"
      },
      "execution_count": 15,
      "outputs": [
        {
          "output_type": "error",
          "ename": "NameError",
          "evalue": "ignored",
          "traceback": [
            "\u001b[0;31m---------------------------------------------------------------------------\u001b[0m",
            "\u001b[0;31mNameError\u001b[0m                                 Traceback (most recent call last)",
            "\u001b[0;32m<ipython-input-15-231990ae0961>\u001b[0m in \u001b[0;36m<module>\u001b[0;34m()\u001b[0m\n\u001b[1;32m      2\u001b[0m \u001b[0;32mfrom\u001b[0m \u001b[0msympy\u001b[0m\u001b[0;34m.\u001b[0m\u001b[0mabc\u001b[0m \u001b[0;32mimport\u001b[0m \u001b[0mx\u001b[0m\u001b[0;34m,\u001b[0m\u001b[0my\u001b[0m\u001b[0;34m,\u001b[0m\u001b[0mz\u001b[0m\u001b[0;34m\u001b[0m\u001b[0;34m\u001b[0m\u001b[0m\n\u001b[1;32m      3\u001b[0m \u001b[0;32mfrom\u001b[0m \u001b[0msympy\u001b[0m \u001b[0;32mimport\u001b[0m \u001b[0mE\u001b[0m\u001b[0;34m\u001b[0m\u001b[0;34m\u001b[0m\u001b[0m\n\u001b[0;32m----> 4\u001b[0;31m \u001b[0msolveset\u001b[0m\u001b[0;34m(\u001b[0m\u001b[0me\u001b[0m\u001b[0;34m**\u001b[0m\u001b[0mx\u001b[0m\u001b[0;34m-\u001b[0m\u001b[0;36m1\u001b[0m\u001b[0;34m,\u001b[0m \u001b[0mx\u001b[0m\u001b[0;34m)\u001b[0m \u001b[0;31m# mặc định là miền số phức: domain = S.Complexes\u001b[0m\u001b[0;34m\u001b[0m\u001b[0;34m\u001b[0m\u001b[0m\n\u001b[0m",
            "\u001b[0;31mNameError\u001b[0m: name 'e' is not defined"
          ]
        }
      ]
    },
    {
      "cell_type": "markdown",
      "source": [
        "font chữ (e -> E) "
      ],
      "metadata": {
        "id": "DrGIr_XYb153"
      }
    },
    {
      "cell_type": "code",
      "source": [
        "solveset(E**x-1, x)"
      ],
      "metadata": {
        "colab": {
          "base_uri": "https://localhost:8080/",
          "height": 39
        },
        "id": "F3Sz3iZmb4FK",
        "outputId": "b0d391f1-2e90-4c58-8493-5b033a1f4e44"
      },
      "execution_count": 16,
      "outputs": [
        {
          "output_type": "execute_result",
          "data": {
            "text/plain": [
              "ImageSet(Lambda(_n, 2*_n*I*pi), Integers)"
            ],
            "text/latex": "$\\displaystyle \\left\\{2 n i \\pi\\; |\\; n \\in \\mathbb{Z}\\right\\}$"
          },
          "metadata": {},
          "execution_count": 16
        }
      ]
    },
    {
      "cell_type": "code",
      "source": [
        "solveset(E**x-1, x, domain = S.Reals)"
      ],
      "metadata": {
        "colab": {
          "base_uri": "https://localhost:8080/",
          "height": 38
        },
        "id": "qBexTxnwb-vY",
        "outputId": "f365b19b-dddb-42e6-eabb-15a1e946c69a"
      },
      "execution_count": 17,
      "outputs": [
        {
          "output_type": "execute_result",
          "data": {
            "text/plain": [
              "FiniteSet(0)"
            ],
            "text/latex": "$\\displaystyle \\left\\{0\\right\\}$"
          },
          "metadata": {},
          "execution_count": 17
        }
      ]
    },
    {
      "cell_type": "markdown",
      "source": [
        "#Thực hành 6: "
      ],
      "metadata": {
        "id": "KUKAA0FWcA9O"
      }
    },
    {
      "cell_type": "code",
      "source": [
        "solveset((sin(x)+x)*(x**2-9), x, domain = S.Reals)"
      ],
      "metadata": {
        "colab": {
          "base_uri": "https://localhost:8080/",
          "height": 39
        },
        "id": "X3BDPwH_cEBQ",
        "outputId": "08f60380-e2da-4630-9d17-c9a7929a404a"
      },
      "execution_count": 18,
      "outputs": [
        {
          "output_type": "execute_result",
          "data": {
            "text/plain": [
              "Union(ConditionSet(x, Eq(x + sin(x), 0), Reals), FiniteSet(-3, 3))"
            ],
            "text/latex": "$\\displaystyle \\left\\{-3, 3\\right\\} \\cup \\left\\{x \\mid x \\in \\mathbb{R} \\wedge x + \\sin{\\left(x \\right)} = 0 \\right\\}$"
          },
          "metadata": {},
          "execution_count": 18
        }
      ]
    },
    {
      "cell_type": "markdown",
      "source": [
        "#Thực hành 7: "
      ],
      "metadata": {
        "id": "32wux7tacFs0"
      }
    },
    {
      "cell_type": "code",
      "source": [
        "from sympy import exp, S\n",
        "solveset(exp(x) > 1, x, domain = S.Reals)"
      ],
      "metadata": {
        "colab": {
          "base_uri": "https://localhost:8080/",
          "height": 38
        },
        "id": "oC6SmjktcG_5",
        "outputId": "d6e83dd4-f7ed-442d-d705-52850ad245cd"
      },
      "execution_count": 19,
      "outputs": [
        {
          "output_type": "execute_result",
          "data": {
            "text/plain": [
              "Interval.open(0, oo)"
            ],
            "text/latex": "$\\displaystyle \\left(0, \\infty\\right)$"
          },
          "metadata": {},
          "execution_count": 19
        }
      ]
    },
    {
      "cell_type": "code",
      "source": [
        "solveset(E**x > 1, x, domain = S.Reals)"
      ],
      "metadata": {
        "colab": {
          "base_uri": "https://localhost:8080/",
          "height": 38
        },
        "id": "1_sqCIH3cI5R",
        "outputId": "21fc17e6-f532-4477-f621-0a971de1a18b"
      },
      "execution_count": 20,
      "outputs": [
        {
          "output_type": "execute_result",
          "data": {
            "text/plain": [
              "Interval.open(0, oo)"
            ],
            "text/latex": "$\\displaystyle \\left(0, \\infty\\right)$"
          },
          "metadata": {},
          "execution_count": 20
        }
      ]
    },
    {
      "cell_type": "code",
      "source": [
        "solveset(E**x > E, x, domain = S.Reals)"
      ],
      "metadata": {
        "colab": {
          "base_uri": "https://localhost:8080/",
          "height": 38
        },
        "id": "_UfncisRcKPz",
        "outputId": "522da5ba-a469-477c-f3a0-ee0f30100229"
      },
      "execution_count": 21,
      "outputs": [
        {
          "output_type": "execute_result",
          "data": {
            "text/plain": [
              "Interval.open(1, oo)"
            ],
            "text/latex": "$\\displaystyle \\left(1, \\infty\\right)$"
          },
          "metadata": {},
          "execution_count": 21
        }
      ]
    },
    {
      "cell_type": "code",
      "source": [
        "R = S.Reals\n",
        "solveset(E**x > E, x, R)"
      ],
      "metadata": {
        "colab": {
          "base_uri": "https://localhost:8080/",
          "height": 38
        },
        "id": "BfZWWeFKcNYw",
        "outputId": "9e726cba-0228-4006-e0e0-ca994ffbaace"
      },
      "execution_count": 22,
      "outputs": [
        {
          "output_type": "execute_result",
          "data": {
            "text/plain": [
              "Interval.open(1, oo)"
            ],
            "text/latex": "$\\displaystyle \\left(1, \\infty\\right)$"
          },
          "metadata": {},
          "execution_count": 22
        }
      ]
    },
    {
      "cell_type": "code",
      "source": [
        "R"
      ],
      "metadata": {
        "colab": {
          "base_uri": "https://localhost:8080/",
          "height": 38
        },
        "id": "4iKKT8-GcPIT",
        "outputId": "ca1f6fd5-bb77-43dd-ce7c-15cb1d505c19"
      },
      "execution_count": 23,
      "outputs": [
        {
          "output_type": "execute_result",
          "data": {
            "text/plain": [
              "Reals"
            ],
            "text/latex": "$\\displaystyle \\mathbb{R}$"
          },
          "metadata": {},
          "execution_count": 23
        }
      ]
    },
    {
      "cell_type": "markdown",
      "source": [
        "#Thực hành 8: "
      ],
      "metadata": {
        "id": "11jYKvwIcQX-"
      }
    },
    {
      "cell_type": "code",
      "source": [
        "from sympy import Derivative, Symbol, solve\n",
        "x = Symbol('x')\n",
        "y = Symbol('y')\n",
        "z = Symbol('z')\n",
        "f = 4*x*y - 8*x - 5 + z*(x+y-50)\n",
        "f"
      ],
      "metadata": {
        "colab": {
          "base_uri": "https://localhost:8080/",
          "height": 39
        },
        "id": "Pg1DydzocR-x",
        "outputId": "c2b6537e-bebc-4e2a-8d79-965a74a2dd15"
      },
      "execution_count": 24,
      "outputs": [
        {
          "output_type": "execute_result",
          "data": {
            "text/plain": [
              "4*x*y - 8*x + z*(x + y - 50) - 5"
            ],
            "text/latex": "$\\displaystyle 4 x y - 8 x + z \\left(x + y - 50\\right) - 5$"
          },
          "metadata": {},
          "execution_count": 24
        }
      ]
    },
    {
      "cell_type": "code",
      "source": [
        "#Tính các đạo hàm riêng theo các biến x, y và z:\n",
        "dx = Derivative(f,x).doit()\n",
        "dx"
      ],
      "metadata": {
        "colab": {
          "base_uri": "https://localhost:8080/",
          "height": 39
        },
        "id": "__hEObrQcVNG",
        "outputId": "15b09b0d-e7fd-420f-97f7-e5c9fae4d128"
      },
      "execution_count": 25,
      "outputs": [
        {
          "output_type": "execute_result",
          "data": {
            "text/plain": [
              "4*y + z - 8"
            ],
            "text/latex": "$\\displaystyle 4 y + z - 8$"
          },
          "metadata": {},
          "execution_count": 25
        }
      ]
    },
    {
      "cell_type": "code",
      "source": [
        "dy = Derivative(f,y).doit()\n",
        "dy"
      ],
      "metadata": {
        "colab": {
          "base_uri": "https://localhost:8080/",
          "height": 39
        },
        "id": "pQaOv5WecXJo",
        "outputId": "24a5825a-cbe2-4c2c-d102-06e577a5083c"
      },
      "execution_count": 26,
      "outputs": [
        {
          "output_type": "execute_result",
          "data": {
            "text/plain": [
              "4*x + z"
            ],
            "text/latex": "$\\displaystyle 4 x + z$"
          },
          "metadata": {},
          "execution_count": 26
        }
      ]
    },
    {
      "cell_type": "code",
      "source": [
        "dz = Derivative(f,z).doit()\n",
        "dz"
      ],
      "metadata": {
        "colab": {
          "base_uri": "https://localhost:8080/",
          "height": 39
        },
        "id": "sagOTJv3cZPs",
        "outputId": "8d477f8e-8f97-4484-ddc5-853a944ab85e"
      },
      "execution_count": 27,
      "outputs": [
        {
          "output_type": "execute_result",
          "data": {
            "text/plain": [
              "x + y - 50"
            ],
            "text/latex": "$\\displaystyle x + y - 50$"
          },
          "metadata": {},
          "execution_count": 27
        }
      ]
    },
    {
      "cell_type": "code",
      "source": [
        "nghiem = solve([dx,dy,dz], (x,y,z))\n",
        "print(nghiem)"
      ],
      "metadata": {
        "colab": {
          "base_uri": "https://localhost:8080/"
        },
        "id": "l8jhljIicaa-",
        "outputId": "8fb24e54-677c-47f5-d3e7-a7967ccac6f1"
      },
      "execution_count": 28,
      "outputs": [
        {
          "output_type": "stream",
          "name": "stdout",
          "text": [
            "{x: 24, y: 26, z: -96}\n"
          ]
        }
      ]
    },
    {
      "cell_type": "code",
      "source": [
        "xx = nghiem[x]\n",
        "yy = nghiem[y]\n",
        "4*xx*yy - 8*xx-5"
      ],
      "metadata": {
        "colab": {
          "base_uri": "https://localhost:8080/",
          "height": 38
        },
        "id": "Ltnbl01SccJZ",
        "outputId": "fcf2a196-7539-4b9e-fad8-8414447fd774"
      },
      "execution_count": 29,
      "outputs": [
        {
          "output_type": "execute_result",
          "data": {
            "text/plain": [
              "2299"
            ],
            "text/latex": "$\\displaystyle 2299$"
          },
          "metadata": {},
          "execution_count": 29
        }
      ]
    },
    {
      "cell_type": "code",
      "source": [
        "ketqua = 4*nghiem[x]*nghiem[y]-8*nghiem[x]-5\n",
        "print(ketqua)"
      ],
      "metadata": {
        "id": "rAbn-a0Icdwh",
        "outputId": "dc4237b6-1399-4a62-b65a-fd6c5cf387bf",
        "colab": {
          "base_uri": "https://localhost:8080/"
        }
      },
      "execution_count": 30,
      "outputs": [
        {
          "output_type": "stream",
          "name": "stdout",
          "text": [
            "2299\n"
          ]
        }
      ]
    }
  ]
}