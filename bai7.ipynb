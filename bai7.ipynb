{
  "nbformat": 4,
  "nbformat_minor": 0,
  "metadata": {
    "colab": {
      "name": "bai7.ipynb",
      "provenance": [],
      "authorship_tag": "ABX9TyO198fzMDabTEqDPk1Upr6e",
      "include_colab_link": true
    },
    "kernelspec": {
      "name": "python3",
      "display_name": "Python 3"
    },
    "language_info": {
      "name": "python"
    }
  },
  "cells": [
    {
      "cell_type": "markdown",
      "metadata": {
        "id": "view-in-github",
        "colab_type": "text"
      },
      "source": [
        "<a href=\"https://colab.research.google.com/github/hnihtt/ThucHanhToanCC/blob/main/bai7.ipynb\" target=\"_parent\"><img src=\"https://colab.research.google.com/assets/colab-badge.svg\" alt=\"Open In Colab\"/></a>"
      ]
    },
    {
      "cell_type": "markdown",
      "source": [
        "#Thực hành 1: "
      ],
      "metadata": {
        "id": "dSJq0RuFlvgK"
      }
    },
    {
      "cell_type": "code",
      "source": [
        "from sympy import Symbol, Integral\n",
        "x = Symbol('x')\n",
        "f = 1.0/x\n",
        "unbound1 = Integral(f, (x, 0, 2))\n",
        "unbound1.doit()"
      ],
      "metadata": {
        "colab": {
          "base_uri": "https://localhost:8080/",
          "height": 38
        },
        "id": "G7o_9fCclwwU",
        "outputId": "1ce2c472-ef68-4c2d-da7b-39241e4fbd78"
      },
      "execution_count": 1,
      "outputs": [
        {
          "output_type": "execute_result",
          "data": {
            "text/plain": [
              "oo"
            ],
            "text/latex": "$\\displaystyle \\infty$"
          },
          "metadata": {},
          "execution_count": 1
        }
      ]
    },
    {
      "cell_type": "markdown",
      "source": [
        "#Thực hành 2: "
      ],
      "metadata": {
        "id": "65lWPTlEl2gj"
      }
    },
    {
      "cell_type": "code",
      "source": [
        "from sympy import Symbol, Integral\n",
        "x = Symbol('x')\n",
        "f = 1.0/x**2\n",
        "unbound2 = Integral(f, (x, -1, 1))\n",
        "unbound2.doit()"
      ],
      "metadata": {
        "colab": {
          "base_uri": "https://localhost:8080/",
          "height": 38
        },
        "id": "4-KnmpFPl30B",
        "outputId": "c2eef3fd-e332-4663-9a4b-09997cb36865"
      },
      "execution_count": 2,
      "outputs": [
        {
          "output_type": "execute_result",
          "data": {
            "text/plain": [
              "oo"
            ],
            "text/latex": "$\\displaystyle \\infty$"
          },
          "metadata": {},
          "execution_count": 2
        }
      ]
    },
    {
      "cell_type": "code",
      "source": [
        "unbound2"
      ],
      "metadata": {
        "colab": {
          "base_uri": "https://localhost:8080/",
          "height": 81
        },
        "id": "w9CTqgD1l5uC",
        "outputId": "caba6153-2a76-4051-bd2d-7344cefdea14"
      },
      "execution_count": 3,
      "outputs": [
        {
          "output_type": "execute_result",
          "data": {
            "text/plain": [
              "Integral(1.0/x**2, (x, -1, 1))"
            ],
            "text/latex": "$\\displaystyle \\int\\limits_{-1}^{1} \\frac{1.0}{x^{2}}\\, dx$"
          },
          "metadata": {},
          "execution_count": 3
        }
      ]
    },
    {
      "cell_type": "markdown",
      "source": [
        "#Thực hành 3: "
      ],
      "metadata": {
        "id": "qpO95ecpl8fv"
      }
    },
    {
      "cell_type": "code",
      "source": [
        "from sympy import Symbol, Integral, Abs\n",
        "x = Symbol('x')\n",
        "f = Abs(x)\n",
        "discontinous1 = Integral(f, (x, -1, 2))\n",
        "discontinous1.doit()"
      ],
      "metadata": {
        "colab": {
          "base_uri": "https://localhost:8080/",
          "height": 51
        },
        "id": "Qwg4L4edl-iz",
        "outputId": "51d5d809-6226-4891-e0c2-eeb5ddce0738"
      },
      "execution_count": 4,
      "outputs": [
        {
          "output_type": "execute_result",
          "data": {
            "text/plain": [
              "5/2"
            ],
            "text/latex": "$\\displaystyle \\frac{5}{2}$"
          },
          "metadata": {},
          "execution_count": 4
        }
      ]
    },
    {
      "cell_type": "markdown",
      "source": [
        "#Thực hành 4: "
      ],
      "metadata": {
        "id": "o-FbiGkll_kE"
      }
    },
    {
      "cell_type": "code",
      "source": [
        "from sympy import Symbol, Integral\n",
        "x = Symbol('x')\n",
        "f = x**(0.5)\n",
        "undef1 = Integral(f, (x, -1, 1))\n",
        "undef1.doit()"
      ],
      "metadata": {
        "colab": {
          "base_uri": "https://localhost:8080/",
          "height": 39
        },
        "id": "LBhGXwWKmBOj",
        "outputId": "18e54fc2-80e1-4003-a671-ac8a0cc245a8"
      },
      "execution_count": 5,
      "outputs": [
        {
          "output_type": "execute_result",
          "data": {
            "text/plain": [
              "0.666666666666667 + 0.666666666666667*I"
            ],
            "text/latex": "$\\displaystyle 0.666666666666667 + 0.666666666666667 i$"
          },
          "metadata": {},
          "execution_count": 5
        }
      ]
    },
    {
      "cell_type": "markdown",
      "source": [
        "#Thực hành 5: "
      ],
      "metadata": {
        "id": "B5Mx0Dq4mDn5"
      }
    },
    {
      "cell_type": "code",
      "source": [
        "from scipy import integrate\n",
        "import numpy as np\n",
        "y = np.array([0.0, 4.1, 8.9, 8.5, 6.7, 4.3, 2.5, 1.2, 0.2])\n",
        "x = np.arange(0,9)\n",
        "integrate.simps(y,x)"
      ],
      "metadata": {
        "colab": {
          "base_uri": "https://localhost:8080/"
        },
        "id": "m8-mLf4HmE0j",
        "outputId": "c042507f-2e1d-4b58-a8dd-730650de8646"
      },
      "execution_count": 6,
      "outputs": [
        {
          "output_type": "execute_result",
          "data": {
            "text/plain": [
              "36.26666666666666"
            ]
          },
          "metadata": {},
          "execution_count": 6
        }
      ]
    },
    {
      "cell_type": "code",
      "source": [
        "x"
      ],
      "metadata": {
        "colab": {
          "base_uri": "https://localhost:8080/"
        },
        "id": "MCz_gXP5mGrg",
        "outputId": "5fac6866-7b30-4d1d-9c9c-8ea610d91b8c"
      },
      "execution_count": 7,
      "outputs": [
        {
          "output_type": "execute_result",
          "data": {
            "text/plain": [
              "array([0, 1, 2, 3, 4, 5, 6, 7, 8])"
            ]
          },
          "metadata": {},
          "execution_count": 7
        }
      ]
    },
    {
      "cell_type": "code",
      "source": [
        "S = 2*integrate.simps(y,x)\n",
        "S"
      ],
      "metadata": {
        "colab": {
          "base_uri": "https://localhost:8080/"
        },
        "id": "sKGPPwFemH5E",
        "outputId": "06e2d7d0-b35e-4054-973d-83580b49a7e1"
      },
      "execution_count": 8,
      "outputs": [
        {
          "output_type": "execute_result",
          "data": {
            "text/plain": [
              "72.53333333333332"
            ]
          },
          "metadata": {},
          "execution_count": 8
        }
      ]
    },
    {
      "cell_type": "code",
      "source": [
        "A = 5.5\n",
        "F = A/S * 60"
      ],
      "metadata": {
        "id": "5qIaHdt_mI-6"
      },
      "execution_count": 9,
      "outputs": []
    },
    {
      "cell_type": "code",
      "source": [
        "F"
      ],
      "metadata": {
        "colab": {
          "base_uri": "https://localhost:8080/"
        },
        "id": "LQrDSxW1mL8M",
        "outputId": "c5ef90fe-b60b-4936-947f-eedd3dfba1fc"
      },
      "execution_count": 11,
      "outputs": [
        {
          "output_type": "execute_result",
          "data": {
            "text/plain": [
              "4.5496323529411775"
            ]
          },
          "metadata": {},
          "execution_count": 11
        }
      ]
    },
    {
      "cell_type": "markdown",
      "source": [
        "#Thực hành 6: "
      ],
      "metadata": {
        "id": "iQmnCRKMmNQp"
      }
    },
    {
      "cell_type": "code",
      "source": [
        "from sympy import *"
      ],
      "metadata": {
        "id": "cBqel1NCmRjM"
      },
      "execution_count": 12,
      "outputs": []
    },
    {
      "cell_type": "code",
      "source": [
        "x = Symbol('x')\n",
        "f = x**(3/2)"
      ],
      "metadata": {
        "id": "23va7nqwmUz5"
      },
      "execution_count": 13,
      "outputs": []
    },
    {
      "cell_type": "code",
      "source": [
        "f1 = Derivative(f,x).doit()\n",
        "f1"
      ],
      "metadata": {
        "colab": {
          "base_uri": "https://localhost:8080/",
          "height": 39
        },
        "id": "iYXTP5r2mW11",
        "outputId": "016157f9-afe9-4ce4-fc04-3d581a169832"
      },
      "execution_count": 14,
      "outputs": [
        {
          "output_type": "execute_result",
          "data": {
            "text/plain": [
              "1.5*x**0.5"
            ],
            "text/latex": "$\\displaystyle 1.5 x^{0.5}$"
          },
          "metadata": {},
          "execution_count": 14
        }
      ]
    },
    {
      "cell_type": "code",
      "source": [
        "L = sqrt(1+f1**2)\n",
        "result = Integral(L, (x,0, 2))\n",
        "result"
      ],
      "metadata": {
        "colab": {
          "base_uri": "https://localhost:8080/",
          "height": 79
        },
        "id": "Ft8bQ6E5mZ24",
        "outputId": "51679006-e108-469e-8975-d442af6e58ea"
      },
      "execution_count": 15,
      "outputs": [
        {
          "output_type": "execute_result",
          "data": {
            "text/plain": [
              "Integral(1.5*sqrt(x**1.0 + 0.444444444444444), (x, 0, 2))"
            ],
            "text/latex": "$\\displaystyle \\int\\limits_{0}^{2} 1.5 \\sqrt{x^{1.0} + 0.444444444444444}\\, dx$"
          },
          "metadata": {},
          "execution_count": 15
        }
      ]
    },
    {
      "cell_type": "code",
      "source": [
        "result.doit()"
      ],
      "metadata": {
        "colab": {
          "base_uri": "https://localhost:8080/",
          "height": 38
        },
        "id": "-r2JjFVfmcEv",
        "outputId": "e27bae37-a37a-446e-9618-b9304b0e25e0"
      },
      "execution_count": 17,
      "outputs": [
        {
          "output_type": "execute_result",
          "data": {
            "text/plain": [
              "3.52552395244872"
            ],
            "text/latex": "$\\displaystyle 3.52552395244872$"
          },
          "metadata": {},
          "execution_count": 17
        }
      ]
    },
    {
      "cell_type": "markdown",
      "source": [
        "#Thực hành 7: "
      ],
      "metadata": {
        "id": "5PL0M5nCme1A"
      }
    },
    {
      "cell_type": "code",
      "source": [
        "from sympy import Symbol, Derivative, solve, Integral\n",
        "x = Symbol('x')\n",
        "# dua vao ket qua cua dai so tuyet tinh ta duoc\n",
        "D = E = -8\n",
        "F = 3\n",
        "f = D*x**3 + E*x**4 + F*x**5\n",
        "f"
      ],
      "metadata": {
        "colab": {
          "base_uri": "https://localhost:8080/",
          "height": 39
        },
        "id": "8bc2rLiemgFl",
        "outputId": "4f90bd4f-73a9-4bdf-de87-8150064337af"
      },
      "execution_count": 18,
      "outputs": [
        {
          "output_type": "execute_result",
          "data": {
            "text/plain": [
              "3*x**5 - 8*x**4 - 8*x**3"
            ],
            "text/latex": "$\\displaystyle 3 x^{5} - 8 x^{4} - 8 x^{3}$"
          },
          "metadata": {},
          "execution_count": 18
        }
      ]
    },
    {
      "cell_type": "code",
      "source": [
        "d1 = Derivative(f,x).doit()\n",
        "d1"
      ],
      "metadata": {
        "colab": {
          "base_uri": "https://localhost:8080/",
          "height": 39
        },
        "id": "LMS3-IYumiOk",
        "outputId": "e4766e77-a45b-4ebe-ecaa-de8b8981c193"
      },
      "execution_count": 19,
      "outputs": [
        {
          "output_type": "execute_result",
          "data": {
            "text/plain": [
              "15*x**4 - 32*x**3 - 24*x**2"
            ],
            "text/latex": "$\\displaystyle 15 x^{4} - 32 x^{3} - 24 x^{2}$"
          },
          "metadata": {},
          "execution_count": 19
        }
      ]
    },
    {
      "cell_type": "code",
      "source": [
        "cuctri = solve(d1)\n",
        "cuctri"
      ],
      "metadata": {
        "colab": {
          "base_uri": "https://localhost:8080/"
        },
        "id": "Kvaec6olmkMI",
        "outputId": "e53d86b6-ebb9-4719-994f-c2160ddefc54"
      },
      "execution_count": 20,
      "outputs": [
        {
          "output_type": "execute_result",
          "data": {
            "text/plain": [
              "[0, 16/15 - 2*sqrt(154)/15, 16/15 + 2*sqrt(154)/15]"
            ]
          },
          "metadata": {},
          "execution_count": 20
        }
      ]
    },
    {
      "cell_type": "markdown",
      "source": [
        "#Thực hành 8: "
      ],
      "metadata": {
        "id": "8ImbugLYmlrI"
      }
    },
    {
      "cell_type": "code",
      "source": [
        "from sympy import difference_delta as dd\n",
        "from sympy.abc import n\n",
        "dd(n*(n+1), n)\n",
        "dd(n*(n+1), n , 2)"
      ],
      "metadata": {
        "colab": {
          "base_uri": "https://localhost:8080/",
          "height": 39
        },
        "id": "PW-hNRmemnRB",
        "outputId": "7e812ea1-bdb1-4d21-c5f3-9c25fc4b36da"
      },
      "execution_count": 21,
      "outputs": [
        {
          "output_type": "execute_result",
          "data": {
            "text/plain": [
              "4*n + 6"
            ],
            "text/latex": "$\\displaystyle 4 n + 6$"
          },
          "metadata": {},
          "execution_count": 21
        }
      ]
    },
    {
      "cell_type": "markdown",
      "source": [
        "#Giới hạn dãy số: "
      ],
      "metadata": {
        "id": "lP0Ga0ywmqgX"
      }
    },
    {
      "cell_type": "code",
      "source": [
        "from sympy.abc import n, k\n",
        "from sympy import limit_seq\n",
        "limit_seq((3*n**3 + 5*n**2 + 4) / (5*n**3 + 200*n**2 + 400), n)"
      ],
      "metadata": {
        "colab": {
          "base_uri": "https://localhost:8080/",
          "height": 51
        },
        "id": "8aCMT0IqmsJw",
        "outputId": "82e5c1d8-9cb0-48d9-bf24-69f9be9726d4"
      },
      "execution_count": 23,
      "outputs": [
        {
          "output_type": "execute_result",
          "data": {
            "text/plain": [
              "3/5"
            ],
            "text/latex": "$\\displaystyle \\frac{3}{5}$"
          },
          "metadata": {},
          "execution_count": 23
        }
      ]
    },
    {
      "cell_type": "code",
      "source": [
        "from sympy.abc import n, k, m\n",
        "from sympy import Sum\n",
        "limit_seq(Sum(k**2 * Sum(2**m/m,(m,1,k)),(k,1,n))/(2**n*n), n)"
      ],
      "metadata": {
        "colab": {
          "base_uri": "https://localhost:8080/",
          "height": 38
        },
        "id": "R8ZIBkXYmwVj",
        "outputId": "9a776578-77aa-4e5a-8b74-f895fe0f0a85"
      },
      "execution_count": 24,
      "outputs": [
        {
          "output_type": "execute_result",
          "data": {
            "text/plain": [
              "4"
            ],
            "text/latex": "$\\displaystyle 4$"
          },
          "metadata": {},
          "execution_count": 24
        }
      ]
    },
    {
      "cell_type": "code",
      "source": [
        "from sympy import series\n",
        "from sympy import Sum\n",
        "from sympy.series.limitseq import dominant\n",
        "from sympy.abc import n, k\n",
        "dominant(n**3 + 100*n**2 + 200*n + 1, n)"
      ],
      "metadata": {
        "colab": {
          "base_uri": "https://localhost:8080/",
          "height": 39
        },
        "id": "zxKAWq8GmzWV",
        "outputId": "8e293583-4ac6-4684-f40f-8f237afafc17"
      },
      "execution_count": 25,
      "outputs": [
        {
          "output_type": "execute_result",
          "data": {
            "text/plain": [
              "n**3"
            ],
            "text/latex": "$\\displaystyle n^{3}$"
          },
          "metadata": {},
          "execution_count": 25
        }
      ]
    },
    {
      "cell_type": "code",
      "source": [
        "dominant(2**n + Sum(k, (k,0, n)), n)"
      ],
      "metadata": {
        "colab": {
          "base_uri": "https://localhost:8080/",
          "height": 38
        },
        "id": "SEvz-W-hm0sL",
        "outputId": "cb206c08-a739-477f-8b5d-85af3d95eedf"
      },
      "execution_count": 26,
      "outputs": [
        {
          "output_type": "execute_result",
          "data": {
            "text/plain": [
              "2**n"
            ],
            "text/latex": "$\\displaystyle 2^{n}$"
          },
          "metadata": {},
          "execution_count": 26
        }
      ]
    },
    {
      "cell_type": "code",
      "source": [
        "dominant(n**2 + Sum(k, (k,0,n)), n)"
      ],
      "metadata": {
        "id": "ToXRxz5om13K"
      },
      "execution_count": 27,
      "outputs": []
    },
    {
      "cell_type": "code",
      "source": [
        "dominant(2*n**2 + Sum(k, (k,0,n)), n)"
      ],
      "metadata": {
        "id": "uqBIYPAcm3B2"
      },
      "execution_count": 28,
      "outputs": []
    },
    {
      "cell_type": "code",
      "source": [
        "dominant(n**3 + Sum(k, (k,0,n)), n)"
      ],
      "metadata": {
        "colab": {
          "base_uri": "https://localhost:8080/",
          "height": 39
        },
        "id": "ep5O6Am0m5lY",
        "outputId": "4271f1d0-483f-44d5-9166-a0ff7f13d509"
      },
      "execution_count": 29,
      "outputs": [
        {
          "output_type": "execute_result",
          "data": {
            "text/plain": [
              "n**3"
            ],
            "text/latex": "$\\displaystyle n^{3}$"
          },
          "metadata": {},
          "execution_count": 29
        }
      ]
    },
    {
      "cell_type": "code",
      "source": [
        "dominant(n*3 + Sum(k, (k,0,n)), n)"
      ],
      "metadata": {
        "colab": {
          "base_uri": "https://localhost:8080/",
          "height": 67
        },
        "id": "nxN7QTy_m6tJ",
        "outputId": "800435c4-31a5-4d3b-b9fd-8e471d22f02d"
      },
      "execution_count": 30,
      "outputs": [
        {
          "output_type": "execute_result",
          "data": {
            "text/plain": [
              "Sum(k, (k, 0, n))"
            ],
            "text/latex": "$\\displaystyle \\sum_{k=0}^{n} k$"
          },
          "metadata": {},
          "execution_count": 30
        }
      ]
    },
    {
      "cell_type": "code",
      "source": [
        "dominant(2*n*3 + Sum(k, (k,0,n)), n)"
      ],
      "metadata": {
        "colab": {
          "base_uri": "https://localhost:8080/",
          "height": 67
        },
        "id": "9wMdNnvgm70n",
        "outputId": "078a100b-b0c6-4df3-bb3a-4303c0243046"
      },
      "execution_count": 31,
      "outputs": [
        {
          "output_type": "execute_result",
          "data": {
            "text/plain": [
              "Sum(k, (k, 0, n))"
            ],
            "text/latex": "$\\displaystyle \\sum_{k=0}^{n} k$"
          },
          "metadata": {},
          "execution_count": 31
        }
      ]
    },
    {
      "cell_type": "code",
      "source": [
        "dominant(2*n**3 + Sum(k, (k,0,n)), n)"
      ],
      "metadata": {
        "colab": {
          "base_uri": "https://localhost:8080/",
          "height": 39
        },
        "id": "dySbGb0bm9FR",
        "outputId": "d99e7ec4-a194-4b16-c855-4d6d74f5eb70"
      },
      "execution_count": 32,
      "outputs": [
        {
          "output_type": "execute_result",
          "data": {
            "text/plain": [
              "2*n**3"
            ],
            "text/latex": "$\\displaystyle 2 n^{3}$"
          },
          "metadata": {},
          "execution_count": 32
        }
      ]
    },
    {
      "cell_type": "markdown",
      "source": [
        "#Thực hành 9: "
      ],
      "metadata": {
        "id": "2q7-6Gllm-Tf"
      }
    },
    {
      "cell_type": "code",
      "source": [
        "#Khai báo chuỗi số: \n",
        "from sympy import Sum\n",
        "from sympy.abc import n,k\n",
        "S = Sum(k, (k,0,n))\n",
        "S"
      ],
      "metadata": {
        "colab": {
          "base_uri": "https://localhost:8080/",
          "height": 67
        },
        "id": "WHw9AmGxm_rb",
        "outputId": "4d3a5c67-3bf4-4024-91b9-dd05518677fe"
      },
      "execution_count": 33,
      "outputs": [
        {
          "output_type": "execute_result",
          "data": {
            "text/plain": [
              "Sum(k, (k, 0, n))"
            ],
            "text/latex": "$\\displaystyle \\sum_{k=0}^{n} k$"
          },
          "metadata": {},
          "execution_count": 33
        }
      ]
    },
    {
      "cell_type": "code",
      "source": [
        "#Giới hạn chuỗi số: \n",
        "from sympy import limit_seq\n",
        "limit_seq(S,n)"
      ],
      "metadata": {
        "colab": {
          "base_uri": "https://localhost:8080/",
          "height": 38
        },
        "id": "7NRKO77mnD8e",
        "outputId": "8a20cd3c-83f2-451c-c598-47a9c3b921a8"
      },
      "execution_count": 34,
      "outputs": [
        {
          "output_type": "execute_result",
          "data": {
            "text/plain": [
              "oo"
            ],
            "text/latex": "$\\displaystyle \\infty$"
          },
          "metadata": {},
          "execution_count": 34
        }
      ]
    },
    {
      "cell_type": "code",
      "source": [
        "#\"chuỗi hóa\" một hàm số: \n",
        "from sympy import Symbol, cos, series\n",
        "x = Symbol('x')\n",
        "S1 = series(cos(x), x)\n",
        "S1"
      ],
      "metadata": {
        "colab": {
          "base_uri": "https://localhost:8080/",
          "height": 54
        },
        "id": "nNnfSc1ZnIGd",
        "outputId": "70677ee6-41ce-4d3e-e3f3-30b0fbf45c6e"
      },
      "execution_count": 35,
      "outputs": [
        {
          "output_type": "execute_result",
          "data": {
            "text/plain": [
              "1 - x**2/2 + x**4/24 + O(x**6)"
            ],
            "text/latex": "$\\displaystyle 1 - \\frac{x^{2}}{2} + \\frac{x^{4}}{24} + O\\left(x^{6}\\right)$"
          },
          "metadata": {},
          "execution_count": 35
        }
      ]
    },
    {
      "cell_type": "code",
      "source": [
        "#Tính toán chuỗi: \n",
        "from sympy.abc import n\n",
        "e = (1 + 1/n)**n\n",
        "print(round(e.subs(n, 100).evalf(), 10))"
      ],
      "metadata": {
        "id": "R3QbRyHLnM_L",
        "outputId": "f62ff931-3951-410f-81a6-cef43d648518",
        "colab": {
          "base_uri": "https://localhost:8080/"
        }
      },
      "execution_count": 36,
      "outputs": [
        {
          "output_type": "stream",
          "name": "stdout",
          "text": [
            "2.7048138294\n"
          ]
        }
      ]
    }
  ]
}