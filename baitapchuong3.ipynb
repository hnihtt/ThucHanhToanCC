{
  "nbformat": 4,
  "nbformat_minor": 0,
  "metadata": {
    "colab": {
      "name": "baitapchuong3.ipynb",
      "provenance": [],
      "authorship_tag": "ABX9TyM1YMZvaNEvhjX4Eut6jmEC",
      "include_colab_link": true
    },
    "kernelspec": {
      "name": "python3",
      "display_name": "Python 3"
    },
    "language_info": {
      "name": "python"
    }
  },
  "cells": [
    {
      "cell_type": "markdown",
      "metadata": {
        "id": "view-in-github",
        "colab_type": "text"
      },
      "source": [
        "<a href=\"https://colab.research.google.com/github/hnihtt/ThucHanhToanCC/blob/main/baitapchuong3.ipynb\" target=\"_parent\"><img src=\"https://colab.research.google.com/assets/colab-badge.svg\" alt=\"Open In Colab\"/></a>"
      ]
    },
    {
      "cell_type": "markdown",
      "source": [
        "#bài tập 1: "
      ],
      "metadata": {
        "id": "SlymctxbwZFn"
      }
    },
    {
      "cell_type": "code",
      "source": [
        "from matplotlib import pyplot as plt\n",
        "import math"
      ],
      "metadata": {
        "id": "T9TTjjAAwbC2"
      },
      "execution_count": 1,
      "outputs": []
    },
    {
      "cell_type": "code",
      "source": [
        "def draw_graph(x,y):\n",
        "  plt.plot(x,y)\n",
        "  plt.xlabel(\"Truc X\")\n",
        "  plt.ylabel('Truc Y')\n",
        "  plt.title('Do thi nem vat the voi cac goc ban ban dau khac nhau, van toc khong doi')\n",
        "def frange(start, final, interval):\n",
        "  numbers = []\n",
        "  while start < final:\n",
        "    numbers.append(start)\n",
        "    start += interval\n",
        "  return numbers\n",
        "def draw_trajectory(u, theta):\n",
        "  # Gia toc trong truong\n",
        "  g = 9.8\n",
        "  # Goc bay:\n",
        "  theta = math.radians(theta)\n",
        "  # Thoi gian bay:\n",
        "  t_flight = 2*u*math.sin(theta)/g\n",
        "  # Tinh toan khoang cach thoi gian\n",
        "  intervals = frange(0, t_flight, 0.001)\n",
        "  # Danh sach toa do x va y\n",
        "  x = []\n",
        "  y = []\n",
        "  for t in intervals:\n",
        "    x.append(u*math.cos(theta)*t)\n",
        "    y.append(u*math.sin(theta)*t - 0.5*g*t*t)\n",
        "  draw_graph(x, y)\n",
        "try:\n",
        "  u = float(input('Nhap van toc ban dau (m/s): '))\n",
        "  theta = float(input('nhap goc ban dau: '))\n",
        "except ValueError:\n",
        "  print (' Nhap cac gia tri sai! ')\n",
        "else:\n",
        "  draw_trajectory(u, theta)\n",
        "  plt.show()\n",
        "finally:\n",
        "  print ('Hoan thanh chuong trinh!')"
      ],
      "metadata": {
        "colab": {
          "base_uri": "https://localhost:8080/",
          "height": 347
        },
        "id": "ZjwOoLT8wgmu",
        "outputId": "50015353-9bff-4935-8f73-89fc4a244d94"
      },
      "execution_count": 2,
      "outputs": [
        {
          "name": "stdout",
          "output_type": "stream",
          "text": [
            "Nhap van toc ban dau (m/s): 5\n",
            "nhap goc ban dau: 50\n"
          ]
        },
        {
          "output_type": "display_data",
          "data": {
            "text/plain": [
              "<Figure size 432x288 with 1 Axes>"
            ],
            "image/png": "[encoded data removed]"
          },
          "metadata": {
            "needs_background": "light"
          }
        },
        {
          "output_type": "stream",
          "name": "stdout",
          "text": [
            "Hoan thanh chuong trinh!\n"
          ]
        }
      ]
    },
    {
      "cell_type": "markdown",
      "source": [
        "#bài tập 2: "
      ],
      "metadata": {
        "id": "V5dVsjNpwj2u"
      }
    },
    {
      "cell_type": "code",
      "source": [
        "def draw_graph(x,y):\n",
        "  plt.plot(x,y)\n",
        "  plt.xlabel('Trục X')\n",
        "  plt.ylabel('Trục Y')\n",
        "  plt.title('Do thi dinh luat hap dan Newton giua hai vat the')\n",
        "def frange(begin, end, inter):\n",
        "  number = []\n",
        "  while begin < end:\n",
        "    number.append(begin)\n",
        "    begin += inter\n",
        "  return number\n",
        "def draw_trajectory(r,F):\n",
        "  inter = frange(100, 1001, 50)\n",
        "  x = []\n",
        "  y = []\n",
        "  for c in inter:\n",
        "    r += 50\n",
        "    x.append(r)\n",
        "    y.append(G*m1*m2/(r**2))\n",
        "  draw_graph(x,y)\n",
        "try:\n",
        "  r = float(input('nhap khoang cach r: '))\n",
        "  G = 6.674e-11\n",
        "  m1 = float(input('nhap gia tri m1: '))\n",
        "  m2 = float(input('nhap gia tri m2: '))\n",
        "  F = (G*m1*m2)/(r*r)\n",
        "except ValueError:\n",
        "  print('Nhap cac gia tri sai! ')\n",
        "else:\n",
        "  draw_trajectory(r,F)\n",
        "  plt.show()\n",
        "finally:\n",
        "  print('Hoan thanh chuong trinh!')"
      ],
      "metadata": {
        "colab": {
          "base_uri": "https://localhost:8080/",
          "height": 365
        },
        "id": "XAbczpr_wm5u",
        "outputId": "889821ea-db8e-4a9a-ea6c-e89d3097c931"
      },
      "execution_count": 4,
      "outputs": [
        {
          "name": "stdout",
          "output_type": "stream",
          "text": [
            "nhap khoang cach r: 50\n",
            "nhap gia tri m1: 5\n",
            "nhap gia tri m2: 10\n"
          ]
        },
        {
          "output_type": "display_data",
          "data": {
            "text/plain": [
              "<Figure size 432x288 with 1 Axes>"
            ],
            "image/png": "[encoded data removed]"
          },
          "metadata": {
            "needs_background": "light"
          }
        },
        {
          "output_type": "stream",
          "name": "stdout",
          "text": [
            "Hoan thanh chuong trinh!\n"
          ]
        }
      ]
    }
  ]
}